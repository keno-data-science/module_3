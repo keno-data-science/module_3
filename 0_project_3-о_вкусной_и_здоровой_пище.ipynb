{
 "cells": [
  {
   "cell_type": "markdown",
   "metadata": {},
   "source": [
    "# Проект №3. О вкусной и здоровой пище "
   ]
  },
  {
   "cell_type": "markdown",
   "metadata": {},
   "source": [
    "Калашников С.Д."
   ]
  },
  {
   "cell_type": "markdown",
   "metadata": {
    "papermill": {
     "duration": 0.10558,
     "end_time": "2021-01-19T06:53:51.463768",
     "exception": false,
     "start_time": "2021-01-19T06:53:51.358188",
     "status": "completed"
    },
    "tags": []
   },
   "source": [
    "Датасет состоит из десяти столбцов, содержащих следующую информацию:\n",
    "\n",
    "Restaurant_id — идентификационный номер ресторана / сети ресторанов;   \n",
    "City — город, в котором находится ресторан;  \n",
    "Cuisine Style — кухня или кухни, к которым можно отнести блюда, предлагаемые в ресторане;  \n",
    "Ranking — место, которое занимает данный ресторан среди всех ресторанов своего города;  \n",
    "Rating — рейтинг ресторана по данным TripAdvisor (именно это значение должна будет предсказывать модель);  \n",
    "Price Range — диапазон цен в ресторане;  \n",
    "Number of Reviews — количество отзывов о ресторане;  \n",
    "Reviews — данные о двух отзывах, которые отображаются на сайте ресторана;  \n",
    "URL_TA — URL страницы ресторана на TripAdvisor;  \n",
    "ID_TA — идентификатор ресторана в базе данных TripAdvisor.  \n",
    "\n"
   ]
  },
  {
   "cell_type": "markdown",
   "metadata": {
    "papermill": {
     "duration": 0.107016,
     "end_time": "2021-01-19T06:53:51.888809",
     "exception": false,
     "start_time": "2021-01-19T06:53:51.781793",
     "status": "completed"
    },
    "tags": []
   },
   "source": [
    "## Библиотеки"
   ]
  },
  {
   "cell_type": "code",
   "execution_count": 161,
   "metadata": {
    "execution": {
     "iopub.execute_input": "2021-01-19T06:53:52.114227Z",
     "iopub.status.busy": "2021-01-19T06:53:52.113578Z",
     "iopub.status.idle": "2021-01-19T06:53:53.720256Z",
     "shell.execute_reply": "2021-01-19T06:53:53.719515Z"
    },
    "papermill": {
     "duration": 1.725476,
     "end_time": "2021-01-19T06:53:53.720394",
     "exception": false,
     "start_time": "2021-01-19T06:53:51.994918",
     "status": "completed"
    },
    "tags": []
   },
   "outputs": [
    {
     "name": "stdout",
     "output_type": "stream",
     "text": [
      "kaggle/input\\sf-dst-restaurant-rating\\kaggle_task.csv\n",
      "kaggle/input\\sf-dst-restaurant-rating\\main_task.csv\n",
      "kaggle/input\\sf-dst-restaurant-rating\\sample_submission.csv\n"
     ]
    }
   ],
   "source": [
    "import os\n",
    "import math\n",
    "import numpy as np\n",
    "import pandas as pd\n",
    "import seaborn as sns\n",
    "import matplotlib.pyplot as plt\n",
    "import sklearn\n",
    "import warnings\n",
    "import re\n",
    "import datetime\n",
    "from textblob import TextBlob\n",
    "from wordcloud import WordCloud\n",
    "from sklearn.model_selection import train_test_split\n",
    "from sklearn.preprocessing import OneHotEncoder\n",
    "from collections import Counter\n",
    "from sklearn.preprocessing import LabelEncoder\n",
    "\n",
    "warnings.filterwarnings('ignore')\n",
    "\n",
    "\n",
    "pd.set_option('display.max_rows', 50)  # отображаем больше строк\n",
    "pd.set_option('display.max_columns', 50)  # отображаем больше столбцов\n",
    "plt.style.use('seaborn')  # выбор стиля графиков\n",
    "\n",
    "%matplotlib inline\n",
    "\n",
    "for dirname, _, filenames in os.walk('kaggle/input'):\n",
    "    for filename in filenames:\n",
    "        print(os.path.join(dirname, filename))"
   ]
  },
  {
   "cell_type": "markdown",
   "metadata": {},
   "source": [
    "# Функции"
   ]
  },
  {
   "cell_type": "code",
   "execution_count": 162,
   "metadata": {},
   "outputs": [],
   "source": [
    "def med_iqr(series, verbose=True):\n",
    "    # Функция возвращает медиану, Q1, Q3, IQR\n",
    "    median = series.median()\n",
    "    perc25 = series.quantile(0.25)\n",
    "    perc75 = series.quantile(0.75)\n",
    "    IQR = perc75 - perc25\n",
    "\n",
    "    if verbose:\n",
    "        print('25-й перцентиль: {},'.format(perc25),\n",
    "              '75-й перцентиль: {},'.format(perc75),\n",
    "              \"IQR: {}, \".format(IQR),\n",
    "              \"Границы выбросов: [{f}, {l}].\".format(f=perc25 - 1.5*IQR, l=perc75 + 1.5*IQR))\n",
    "\n",
    "    temp_dict = {'median': median, 'perc25': perc25,\n",
    "                 'perc75': perc75, 'iqr': IQR}\n",
    "\n",
    "    return temp_dict\n",
    "\n",
    "\n",
    "def review_extraction(row):\n",
    "    # Функция вызывается для разделения столбца отзывы\n",
    "    cell = row['reviews']\n",
    "\n",
    "    # создаём вспомогательный список для сохранения временных данных\n",
    "    aux_list = [[], []]\n",
    "    if type(cell) == str and lrx.fullmatch(cell):  # сравнить с шаблоном поиска\n",
    "        aux_list = eval(cell)  # преобразовать в список\n",
    "\n",
    "    row['first_review'] = aux_list[0][1] if len(aux_list[0]) > 1 else nan\n",
    "    row['last_review'] = aux_list[0][0] if len(aux_list[0]) > 0 else nan\n",
    "\n",
    "    row['first_date'] = pd.to_datetime(\n",
    "        aux_list[1][1] if len(aux_list[1]) > 1 else nan)\n",
    "    row['last_date'] = pd.to_datetime(aux_list[1][0] if len(\n",
    "        aux_list[1]) > 0 else nan, format='%m/%d/%Y', errors='coerce')\n",
    "\n",
    "    row['first_date'] = pd.to_datetime(row['first_date'])\n",
    "    row['last_date'] = pd.to_datetime(row['last_date'])\n",
    "\n",
    "    return row\n",
    "\n",
    "\n",
    "def get_days(timedelta):\n",
    "    # Функция преобразования дат в дени'\n",
    "    return timedelta.days\n",
    "\n",
    "\n",
    "def get_cuisine_rare(row):\n",
    "    # Функция создания редкие кухонь\n",
    "    number = 0\n",
    "    for i in cuisine_rare_lst:\n",
    "        if i in row:\n",
    "            number += 1  # подсчёт кол-во редких кухонь\n",
    "    return number\n",
    "\n",
    "\n",
    "def get_local_cuisine(row):\n",
    "    # Функция для идентификации местной кухни\n",
    "    local_cuis = cuisine_region[row['country']]\n",
    "    for i in local_cuis:\n",
    "        if i in row['cuisine_style'] and i != '':\n",
    "            return 1\n",
    "    return 0\n",
    "\n",
    "\n",
    "def get_vegan(row):\n",
    "    # функция определения \"вегано\" подобной еды\n",
    "    vegan_cuis = ['Vegetarian Friendly', 'Vegan Options',  # All vegan food in my oppinion\n",
    "                  'Gluten Free Options', 'Healthy', ]\n",
    "    for i in vegan_cuis:\n",
    "        if i in row['cuisine_style'] and i != '':\n",
    "            return 1\n",
    "    return 0\n",
    "\n",
    "\n",
    "def round_rating_pred(rating_pred):\n",
    "    # Функция для округления прогнозируемых оценок\n",
    "    if rating_pred <= 0.5:\n",
    "        return 0.0\n",
    "    if rating_pred <= 1.5:\n",
    "        return 1.0\n",
    "    if rating_pred <= 1.75:\n",
    "        return 1.5\n",
    "    if rating_pred <= 2.25:\n",
    "        return 2.0\n",
    "    if rating_pred <= 2.75:\n",
    "        return 2.5\n",
    "    if rating_pred <= 3.25:\n",
    "        return 3.0\n",
    "    if rating_pred <= 3.75:\n",
    "        return 3.5\n",
    "    if rating_pred <= 4.25:\n",
    "        return 4.0\n",
    "    if rating_pred <= 4.75:\n",
    "        return 4.5\n",
    "    return 5.0"
   ]
  },
  {
   "cell_type": "markdown",
   "metadata": {},
   "source": [
    "Зафиксируем версию пакетов, RANDOM_SEED и установи текущую дату, чтобы эксперименты были воспроизводимы"
   ]
  },
  {
   "cell_type": "code",
   "execution_count": 163,
   "metadata": {
    "execution": {
     "iopub.execute_input": "2021-01-19T06:53:53.945847Z",
     "iopub.status.busy": "2021-01-19T06:53:53.945244Z",
     "iopub.status.idle": "2021-01-19T06:53:56.319908Z",
     "shell.execute_reply": "2021-01-19T06:53:56.320395Z"
    },
    "papermill": {
     "duration": 2.491411,
     "end_time": "2021-01-19T06:53:56.320537",
     "exception": false,
     "start_time": "2021-01-19T06:53:53.829126",
     "status": "completed"
    },
    "tags": []
   },
   "outputs": [],
   "source": [
    "RANDOM_SEED = 42\n",
    "!pip freeze > requirements.txt\n",
    "CURRENT_DATE = pd.to_datetime('19/04/2021')"
   ]
  },
  {
   "cell_type": "markdown",
   "metadata": {
    "papermill": {
     "duration": 0.107579,
     "end_time": "2021-01-19T06:53:57.075897",
     "exception": false,
     "start_time": "2021-01-19T06:53:56.968318",
     "status": "completed"
    },
    "tags": []
   },
   "source": [
    "# 1. Загрузка и первичный осмотр датасета"
   ]
  },
  {
   "cell_type": "code",
   "execution_count": 164,
   "metadata": {
    "execution": {
     "iopub.execute_input": "2021-01-19T06:53:57.300131Z",
     "iopub.status.busy": "2021-01-19T06:53:57.299587Z",
     "iopub.status.idle": "2021-01-19T06:53:57.665480Z",
     "shell.execute_reply": "2021-01-19T06:53:57.666131Z"
    },
    "papermill": {
     "duration": 0.482318,
     "end_time": "2021-01-19T06:53:57.666289",
     "exception": false,
     "start_time": "2021-01-19T06:53:57.183971",
     "status": "completed"
    },
    "tags": []
   },
   "outputs": [],
   "source": [
    "DATA_DIR = 'kaggle/input/sf-dst-restaurant-rating/'\n",
    "df_train = pd.read_csv(DATA_DIR+'/main_task.csv')\n",
    "df_test = pd.read_csv(DATA_DIR+'kaggle_task.csv')\n",
    "sample_submission = pd.read_csv(DATA_DIR+'/sample_submission.csv')"
   ]
  },
  {
   "cell_type": "code",
   "execution_count": 165,
   "metadata": {
    "execution": {
     "iopub.execute_input": "2021-01-19T06:53:58.102224Z",
     "iopub.status.busy": "2021-01-19T06:53:58.101597Z",
     "iopub.status.idle": "2021-01-19T06:53:58.165571Z",
     "shell.execute_reply": "2021-01-19T06:53:58.165108Z"
    },
    "papermill": {
     "duration": 0.175658,
     "end_time": "2021-01-19T06:53:58.165663",
     "exception": false,
     "start_time": "2021-01-19T06:53:57.990005",
     "status": "completed"
    },
    "tags": []
   },
   "outputs": [
    {
     "data": {
      "text/html": [
       "<div>\n",
       "<style scoped>\n",
       "    .dataframe tbody tr th:only-of-type {\n",
       "        vertical-align: middle;\n",
       "    }\n",
       "\n",
       "    .dataframe tbody tr th {\n",
       "        vertical-align: top;\n",
       "    }\n",
       "\n",
       "    .dataframe thead th {\n",
       "        text-align: right;\n",
       "    }\n",
       "</style>\n",
       "<table border=\"1\" class=\"dataframe\">\n",
       "  <thead>\n",
       "    <tr style=\"text-align: right;\">\n",
       "      <th></th>\n",
       "      <th>Restaurant_id</th>\n",
       "      <th>City</th>\n",
       "      <th>Cuisine Style</th>\n",
       "      <th>Ranking</th>\n",
       "      <th>Rating</th>\n",
       "      <th>Price Range</th>\n",
       "      <th>Number of Reviews</th>\n",
       "      <th>Reviews</th>\n",
       "      <th>URL_TA</th>\n",
       "      <th>ID_TA</th>\n",
       "    </tr>\n",
       "  </thead>\n",
       "  <tbody>\n",
       "    <tr>\n",
       "      <th>26720</th>\n",
       "      <td>id_4434</td>\n",
       "      <td>Rome</td>\n",
       "      <td>NaN</td>\n",
       "      <td>4435.0</td>\n",
       "      <td>4.5</td>\n",
       "      <td>NaN</td>\n",
       "      <td>12.0</td>\n",
       "      <td>[[], []]</td>\n",
       "      <td>/Restaurant_Review-g187791-d8117867-Reviews-Ch...</td>\n",
       "      <td>d8117867</td>\n",
       "    </tr>\n",
       "    <tr>\n",
       "      <th>24120</th>\n",
       "      <td>id_0</td>\n",
       "      <td>Amsterdam</td>\n",
       "      <td>['French', 'Dutch', 'European']</td>\n",
       "      <td>1.0</td>\n",
       "      <td>5.0</td>\n",
       "      <td>$$ - $$$</td>\n",
       "      <td>136.0</td>\n",
       "      <td>[['Just like home', 'A Warm Welcome to Wintry ...</td>\n",
       "      <td>/Restaurant_Review-g188590-d11752080-Reviews-M...</td>\n",
       "      <td>d11752080</td>\n",
       "    </tr>\n",
       "  </tbody>\n",
       "</table>\n",
       "</div>"
      ],
      "text/plain": [
       "      Restaurant_id       City                    Cuisine Style  Ranking  \\\n",
       "26720       id_4434       Rome                              NaN   4435.0   \n",
       "24120          id_0  Amsterdam  ['French', 'Dutch', 'European']      1.0   \n",
       "\n",
       "       Rating Price Range  Number of Reviews  \\\n",
       "26720     4.5         NaN               12.0   \n",
       "24120     5.0    $$ - $$$              136.0   \n",
       "\n",
       "                                                 Reviews  \\\n",
       "26720                                           [[], []]   \n",
       "24120  [['Just like home', 'A Warm Welcome to Wintry ...   \n",
       "\n",
       "                                                  URL_TA      ID_TA  \n",
       "26720  /Restaurant_Review-g187791-d8117867-Reviews-Ch...   d8117867  \n",
       "24120  /Restaurant_Review-g188590-d11752080-Reviews-M...  d11752080  "
      ]
     },
     "metadata": {},
     "output_type": "display_data"
    },
    {
     "name": "stdout",
     "output_type": "stream",
     "text": [
      "<class 'pandas.core.frame.DataFrame'>\n",
      "RangeIndex: 40000 entries, 0 to 39999\n",
      "Data columns (total 10 columns):\n",
      " #   Column             Non-Null Count  Dtype  \n",
      "---  ------             --------------  -----  \n",
      " 0   Restaurant_id      40000 non-null  object \n",
      " 1   City               40000 non-null  object \n",
      " 2   Cuisine Style      30717 non-null  object \n",
      " 3   Ranking            40000 non-null  float64\n",
      " 4   Rating             40000 non-null  float64\n",
      " 5   Price Range        26114 non-null  object \n",
      " 6   Number of Reviews  37457 non-null  float64\n",
      " 7   Reviews            40000 non-null  object \n",
      " 8   URL_TA             40000 non-null  object \n",
      " 9   ID_TA              40000 non-null  object \n",
      "dtypes: float64(3), object(7)\n",
      "memory usage: 3.1+ MB\n"
     ]
    }
   ],
   "source": [
    "display(df_train.sample(2))\n",
    "df_train.info()"
   ]
  },
  {
   "cell_type": "code",
   "execution_count": 166,
   "metadata": {},
   "outputs": [
    {
     "data": {
      "text/html": [
       "<div>\n",
       "<style scoped>\n",
       "    .dataframe tbody tr th:only-of-type {\n",
       "        vertical-align: middle;\n",
       "    }\n",
       "\n",
       "    .dataframe tbody tr th {\n",
       "        vertical-align: top;\n",
       "    }\n",
       "\n",
       "    .dataframe thead th {\n",
       "        text-align: right;\n",
       "    }\n",
       "</style>\n",
       "<table border=\"1\" class=\"dataframe\">\n",
       "  <thead>\n",
       "    <tr style=\"text-align: right;\">\n",
       "      <th></th>\n",
       "      <th>Restaurant_id</th>\n",
       "      <th>City</th>\n",
       "      <th>Cuisine Style</th>\n",
       "      <th>Ranking</th>\n",
       "      <th>Price Range</th>\n",
       "      <th>Number of Reviews</th>\n",
       "      <th>Reviews</th>\n",
       "      <th>URL_TA</th>\n",
       "      <th>ID_TA</th>\n",
       "    </tr>\n",
       "  </thead>\n",
       "  <tbody>\n",
       "    <tr>\n",
       "      <th>235</th>\n",
       "      <td>id_235</td>\n",
       "      <td>Prague</td>\n",
       "      <td>['Italian']</td>\n",
       "      <td>1662.0</td>\n",
       "      <td>$$ - $$$</td>\n",
       "      <td>4.0</td>\n",
       "      <td>[['Lovely place - I fell in love :)', 'Addicti...</td>\n",
       "      <td>/Restaurant_Review-g274707-d11948178-Reviews-V...</td>\n",
       "      <td>d11948178</td>\n",
       "    </tr>\n",
       "    <tr>\n",
       "      <th>5979</th>\n",
       "      <td>id_5979</td>\n",
       "      <td>Milan</td>\n",
       "      <td>['American', 'Bar', 'Fast Food', 'Barbecue']</td>\n",
       "      <td>914.0</td>\n",
       "      <td>$</td>\n",
       "      <td>485.0</td>\n",
       "      <td>[['Good burger', 'excellent burger, not cheap'...</td>\n",
       "      <td>/Restaurant_Review-g187849-d4939155-Reviews-Bu...</td>\n",
       "      <td>d4939155</td>\n",
       "    </tr>\n",
       "  </tbody>\n",
       "</table>\n",
       "</div>"
      ],
      "text/plain": [
       "     Restaurant_id    City                                 Cuisine Style  \\\n",
       "235         id_235  Prague                                   ['Italian']   \n",
       "5979       id_5979   Milan  ['American', 'Bar', 'Fast Food', 'Barbecue']   \n",
       "\n",
       "      Ranking Price Range  Number of Reviews  \\\n",
       "235    1662.0    $$ - $$$                4.0   \n",
       "5979    914.0           $              485.0   \n",
       "\n",
       "                                                Reviews  \\\n",
       "235   [['Lovely place - I fell in love :)', 'Addicti...   \n",
       "5979  [['Good burger', 'excellent burger, not cheap'...   \n",
       "\n",
       "                                                 URL_TA      ID_TA  \n",
       "235   /Restaurant_Review-g274707-d11948178-Reviews-V...  d11948178  \n",
       "5979  /Restaurant_Review-g187849-d4939155-Reviews-Bu...   d4939155  "
      ]
     },
     "metadata": {},
     "output_type": "display_data"
    },
    {
     "name": "stdout",
     "output_type": "stream",
     "text": [
      "<class 'pandas.core.frame.DataFrame'>\n",
      "RangeIndex: 10000 entries, 0 to 9999\n",
      "Data columns (total 9 columns):\n",
      " #   Column             Non-Null Count  Dtype  \n",
      "---  ------             --------------  -----  \n",
      " 0   Restaurant_id      10000 non-null  object \n",
      " 1   City               10000 non-null  object \n",
      " 2   Cuisine Style      7693 non-null   object \n",
      " 3   Ranking            10000 non-null  float64\n",
      " 4   Price Range        6525 non-null   object \n",
      " 5   Number of Reviews  9343 non-null   float64\n",
      " 6   Reviews            9998 non-null   object \n",
      " 7   URL_TA             10000 non-null  object \n",
      " 8   ID_TA              10000 non-null  object \n",
      "dtypes: float64(2), object(7)\n",
      "memory usage: 703.2+ KB\n"
     ]
    }
   ],
   "source": [
    "display(df_test.sample(2))\n",
    "df_test.info()"
   ]
  },
  {
   "cell_type": "code",
   "execution_count": 167,
   "metadata": {},
   "outputs": [
    {
     "data": {
      "text/html": [
       "<div>\n",
       "<style scoped>\n",
       "    .dataframe tbody tr th:only-of-type {\n",
       "        vertical-align: middle;\n",
       "    }\n",
       "\n",
       "    .dataframe tbody tr th {\n",
       "        vertical-align: top;\n",
       "    }\n",
       "\n",
       "    .dataframe thead th {\n",
       "        text-align: right;\n",
       "    }\n",
       "</style>\n",
       "<table border=\"1\" class=\"dataframe\">\n",
       "  <thead>\n",
       "    <tr style=\"text-align: right;\">\n",
       "      <th></th>\n",
       "      <th>Restaurant_id</th>\n",
       "      <th>Rating</th>\n",
       "    </tr>\n",
       "  </thead>\n",
       "  <tbody>\n",
       "    <tr>\n",
       "      <th>1959</th>\n",
       "      <td>id_1959</td>\n",
       "      <td>2.0</td>\n",
       "    </tr>\n",
       "    <tr>\n",
       "      <th>2219</th>\n",
       "      <td>id_2219</td>\n",
       "      <td>2.0</td>\n",
       "    </tr>\n",
       "  </tbody>\n",
       "</table>\n",
       "</div>"
      ],
      "text/plain": [
       "     Restaurant_id  Rating\n",
       "1959       id_1959     2.0\n",
       "2219       id_2219     2.0"
      ]
     },
     "metadata": {},
     "output_type": "display_data"
    },
    {
     "name": "stdout",
     "output_type": "stream",
     "text": [
      "<class 'pandas.core.frame.DataFrame'>\n",
      "RangeIndex: 10000 entries, 0 to 9999\n",
      "Data columns (total 2 columns):\n",
      " #   Column         Non-Null Count  Dtype  \n",
      "---  ------         --------------  -----  \n",
      " 0   Restaurant_id  10000 non-null  object \n",
      " 1   Rating         10000 non-null  float64\n",
      "dtypes: float64(1), object(1)\n",
      "memory usage: 156.4+ KB\n"
     ]
    }
   ],
   "source": [
    "display(sample_submission.sample(2))\n",
    "sample_submission.info()"
   ]
  },
  {
   "cell_type": "markdown",
   "metadata": {},
   "source": [
    "Для правильной обработки объединим обучающий и тестовый наборы в один набор данных  \n",
    "Мы должны прогнозировать \"рейтинг\", в тестовом наборе мы заполняем его 0"
   ]
  },
  {
   "cell_type": "code",
   "execution_count": 168,
   "metadata": {
    "execution": {
     "iopub.execute_input": "2021-01-19T06:53:58.637227Z",
     "iopub.status.busy": "2021-01-19T06:53:58.636376Z",
     "iopub.status.idle": "2021-01-19T06:53:58.660627Z",
     "shell.execute_reply": "2021-01-19T06:53:58.660091Z"
    },
    "papermill": {
     "duration": 0.139777,
     "end_time": "2021-01-19T06:53:58.660723",
     "exception": false,
     "start_time": "2021-01-19T06:53:58.520946",
     "status": "completed"
    },
    "tags": []
   },
   "outputs": [],
   "source": [
    "df_train['sample'] = 1  # обучающий\n",
    "df_test['sample'] = 0  # тестовый\n",
    "df_test['Rating'] = 0  # значения Rating, заполняем нулями\n",
    "\n",
    "df = df_test.append(df_train, sort=False).reset_index(drop=True)  # объединяем"
   ]
  },
  {
   "cell_type": "code",
   "execution_count": 169,
   "metadata": {
    "execution": {
     "iopub.execute_input": "2021-01-19T06:53:58.881075Z",
     "iopub.status.busy": "2021-01-19T06:53:58.880565Z",
     "iopub.status.idle": "2021-01-19T06:53:58.944653Z",
     "shell.execute_reply": "2021-01-19T06:53:58.943937Z"
    },
    "papermill": {
     "duration": 0.175432,
     "end_time": "2021-01-19T06:53:58.944792",
     "exception": false,
     "start_time": "2021-01-19T06:53:58.769360",
     "status": "completed"
    },
    "tags": []
   },
   "outputs": [
    {
     "data": {
      "text/html": [
       "<div>\n",
       "<style scoped>\n",
       "    .dataframe tbody tr th:only-of-type {\n",
       "        vertical-align: middle;\n",
       "    }\n",
       "\n",
       "    .dataframe tbody tr th {\n",
       "        vertical-align: top;\n",
       "    }\n",
       "\n",
       "    .dataframe thead th {\n",
       "        text-align: right;\n",
       "    }\n",
       "</style>\n",
       "<table border=\"1\" class=\"dataframe\">\n",
       "  <thead>\n",
       "    <tr style=\"text-align: right;\">\n",
       "      <th></th>\n",
       "      <th>Restaurant_id</th>\n",
       "      <th>City</th>\n",
       "      <th>Cuisine Style</th>\n",
       "      <th>Ranking</th>\n",
       "      <th>Price Range</th>\n",
       "      <th>Number of Reviews</th>\n",
       "      <th>Reviews</th>\n",
       "      <th>URL_TA</th>\n",
       "      <th>ID_TA</th>\n",
       "      <th>sample</th>\n",
       "      <th>Rating</th>\n",
       "    </tr>\n",
       "  </thead>\n",
       "  <tbody>\n",
       "    <tr>\n",
       "      <th>34602</th>\n",
       "      <td>id_4413</td>\n",
       "      <td>Paris</td>\n",
       "      <td>['Argentinean', 'South American']</td>\n",
       "      <td>4414.0</td>\n",
       "      <td>$$ - $$$</td>\n",
       "      <td>88.0</td>\n",
       "      <td>[['Unusual', 'Something different in Paris 17'...</td>\n",
       "      <td>/Restaurant_Review-g187147-d897223-Reviews-Le_...</td>\n",
       "      <td>d897223</td>\n",
       "      <td>1</td>\n",
       "      <td>4.0</td>\n",
       "    </tr>\n",
       "    <tr>\n",
       "      <th>26182</th>\n",
       "      <td>id_4369</td>\n",
       "      <td>Barcelona</td>\n",
       "      <td>['Seafood', 'Mediterranean', 'European', 'Span...</td>\n",
       "      <td>4370.0</td>\n",
       "      <td>$$ - $$$</td>\n",
       "      <td>219.0</td>\n",
       "      <td>[['Lovely position, good food, friendly and f....</td>\n",
       "      <td>/Restaurant_Review-g187497-d986285-Reviews-La_...</td>\n",
       "      <td>d986285</td>\n",
       "      <td>1</td>\n",
       "      <td>3.5</td>\n",
       "    </tr>\n",
       "    <tr>\n",
       "      <th>16620</th>\n",
       "      <td>id_277</td>\n",
       "      <td>Lisbon</td>\n",
       "      <td>['Mediterranean', 'European', 'Portuguese', 'V...</td>\n",
       "      <td>278.0</td>\n",
       "      <td>$$ - $$$</td>\n",
       "      <td>323.0</td>\n",
       "      <td>[['Authentic with a contemporary touch', 'Best...</td>\n",
       "      <td>/Restaurant_Review-g189158-d2399630-Reviews-Pe...</td>\n",
       "      <td>d2399630</td>\n",
       "      <td>1</td>\n",
       "      <td>4.5</td>\n",
       "    </tr>\n",
       "  </tbody>\n",
       "</table>\n",
       "</div>"
      ],
      "text/plain": [
       "      Restaurant_id       City  \\\n",
       "34602       id_4413      Paris   \n",
       "26182       id_4369  Barcelona   \n",
       "16620        id_277     Lisbon   \n",
       "\n",
       "                                           Cuisine Style  Ranking Price Range  \\\n",
       "34602                  ['Argentinean', 'South American']   4414.0    $$ - $$$   \n",
       "26182  ['Seafood', 'Mediterranean', 'European', 'Span...   4370.0    $$ - $$$   \n",
       "16620  ['Mediterranean', 'European', 'Portuguese', 'V...    278.0    $$ - $$$   \n",
       "\n",
       "       Number of Reviews                                            Reviews  \\\n",
       "34602               88.0  [['Unusual', 'Something different in Paris 17'...   \n",
       "26182              219.0  [['Lovely position, good food, friendly and f....   \n",
       "16620              323.0  [['Authentic with a contemporary touch', 'Best...   \n",
       "\n",
       "                                                  URL_TA     ID_TA  sample  \\\n",
       "34602  /Restaurant_Review-g187147-d897223-Reviews-Le_...   d897223       1   \n",
       "26182  /Restaurant_Review-g187497-d986285-Reviews-La_...   d986285       1   \n",
       "16620  /Restaurant_Review-g189158-d2399630-Reviews-Pe...  d2399630       1   \n",
       "\n",
       "       Rating  \n",
       "34602     4.0  \n",
       "26182     3.5  \n",
       "16620     4.5  "
      ]
     },
     "metadata": {},
     "output_type": "display_data"
    },
    {
     "name": "stdout",
     "output_type": "stream",
     "text": [
      "<class 'pandas.core.frame.DataFrame'>\n",
      "RangeIndex: 50000 entries, 0 to 49999\n",
      "Data columns (total 11 columns):\n",
      " #   Column             Non-Null Count  Dtype  \n",
      "---  ------             --------------  -----  \n",
      " 0   Restaurant_id      50000 non-null  object \n",
      " 1   City               50000 non-null  object \n",
      " 2   Cuisine Style      38410 non-null  object \n",
      " 3   Ranking            50000 non-null  float64\n",
      " 4   Price Range        32639 non-null  object \n",
      " 5   Number of Reviews  46800 non-null  float64\n",
      " 6   Reviews            49998 non-null  object \n",
      " 7   URL_TA             50000 non-null  object \n",
      " 8   ID_TA              50000 non-null  object \n",
      " 9   sample             50000 non-null  int64  \n",
      " 10  Rating             50000 non-null  float64\n",
      "dtypes: float64(3), int64(1), object(7)\n",
      "memory usage: 4.2+ MB\n"
     ]
    }
   ],
   "source": [
    "display(df.sample(3))\n",
    "df.info()"
   ]
  },
  {
   "cell_type": "markdown",
   "metadata": {
    "papermill": {
     "duration": 0.110782,
     "end_time": "2021-01-19T06:53:59.620556",
     "exception": false,
     "start_time": "2021-01-19T06:53:59.509774",
     "status": "completed"
    },
    "tags": []
   },
   "source": [
    "### Определяем какие типы данных хранятся в каждой ячейке-столбце"
   ]
  },
  {
   "cell_type": "code",
   "execution_count": 170,
   "metadata": {
    "execution": {
     "iopub.execute_input": "2021-01-19T06:53:59.849129Z",
     "iopub.status.busy": "2021-01-19T06:53:59.848511Z",
     "iopub.status.idle": "2021-01-19T06:53:59.856375Z",
     "shell.execute_reply": "2021-01-19T06:53:59.855215Z"
    },
    "papermill": {
     "duration": 0.122897,
     "end_time": "2021-01-19T06:53:59.856552",
     "exception": false,
     "start_time": "2021-01-19T06:53:59.733655",
     "status": "completed"
    },
    "tags": []
   },
   "outputs": [
    {
     "name": "stdout",
     "output_type": "stream",
     "text": [
      "Restaurant_id <class 'str'>\n",
      "City <class 'str'>\n",
      "Cuisine Style <class 'str'>\n",
      "Ranking <class 'numpy.float64'>\n",
      "Price Range <class 'str'>\n",
      "Number of Reviews <class 'numpy.float64'>\n",
      "Reviews <class 'str'>\n",
      "URL_TA <class 'str'>\n",
      "ID_TA <class 'str'>\n",
      "sample <class 'numpy.int64'>\n",
      "Rating <class 'numpy.float64'>\n"
     ]
    }
   ],
   "source": [
    "for i, j in enumerate(df.columns):\n",
    "    print(j, type(df.loc[1][i]))"
   ]
  },
  {
   "cell_type": "markdown",
   "metadata": {},
   "source": [
    "### Анализ всех столбцов на уникальные и NaN значения в числовом и процентном соотношении."
   ]
  },
  {
   "cell_type": "code",
   "execution_count": 171,
   "metadata": {
    "scrolled": true
   },
   "outputs": [
    {
     "name": "stdout",
     "output_type": "stream",
     "text": [
      "\n",
      "--------- Restaurant_id --------\n",
      "\n",
      "Уникальные значения в Restaurant_id = ['id_0' 'id_1' 'id_2' ... 'id_15736' 'id_12774' 'id_11658']\n",
      "\n",
      "Количество уникальных значений в Restaurant_id = 13094\n",
      "\n",
      "Количество пустых значений в Restaurant_id = 0\n",
      "\n",
      "Процент пустых значений в Restaurant_id =  0 %\n",
      "\n",
      "--------- City --------\n",
      "\n",
      "Уникальные значения в City = ['Paris' 'Helsinki' 'Edinburgh' 'London' 'Bratislava' 'Lisbon' 'Budapest'\n",
      " 'Stockholm' 'Rome' 'Milan' 'Munich' 'Hamburg' 'Prague' 'Vienna' 'Dublin'\n",
      " 'Barcelona' 'Brussels' 'Madrid' 'Oslo' 'Amsterdam' 'Berlin' 'Lyon'\n",
      " 'Athens' 'Warsaw' 'Oporto' 'Krakow' 'Copenhagen' 'Luxembourg' 'Zurich'\n",
      " 'Geneva' 'Ljubljana']\n",
      "\n",
      "Количество уникальных значений в City = 31\n",
      "\n",
      "Количество пустых значений в City = 0\n",
      "\n",
      "Процент пустых значений в City =  0 %\n",
      "\n",
      "--------- Cuisine Style --------\n",
      "\n",
      "Уникальные значения в Cuisine Style = [\"['Bar', 'Pub']\"\n",
      " \"['European', 'Scandinavian', 'Gluten Free Options', 'Vegetarian Friendly', 'Vegan Options']\"\n",
      " \"['Vegetarian Friendly']\" ...\n",
      " \"['Steakhouse', 'Barbecue', 'Australian', 'Argentinean', 'South American']\"\n",
      " \"['French', 'American', 'Cafe', 'Healthy', 'Soups']\"\n",
      " \"['French', 'Contemporary', 'Fusion', 'Gastropub']\"]\n",
      "\n",
      "Количество уникальных значений в Cuisine Style = 10731\n",
      "\n",
      "Количество пустых значений в Cuisine Style = 11590\n",
      "\n",
      "Процент пустых значений в Cuisine Style =  23 %\n",
      "\n",
      "--------- Ranking --------\n",
      "\n",
      "Уникальные значения в Ranking = [12963.   106.   810. ... 15748.  8896.  6058.]\n",
      "\n",
      "Количество уникальных значений в Ranking = 12975\n",
      "\n",
      "Количество пустых значений в Ranking = 0\n",
      "\n",
      "Процент пустых значений в Ranking =  0 %\n",
      "\n",
      "--------- Price Range --------\n",
      "\n",
      "Уникальные значения в Price Range = ['$$ - $$$' '$$$$' '$']\n",
      "\n",
      "Количество уникальных значений в Price Range = 3\n",
      "\n",
      "Количество пустых значений в Price Range = 17361\n",
      "\n",
      "Процент пустых значений в Price Range =  35 %\n",
      "\n",
      "--------- Number of Reviews --------\n",
      "\n",
      "Уникальные значения в Number of Reviews = [   4.   97.   28. ...  765. 2272. 2297.]\n",
      "\n",
      "Количество уникальных значений в Number of Reviews = 1573\n",
      "\n",
      "Количество пустых значений в Number of Reviews = 3200\n",
      "\n",
      "Процент пустых значений в Number of Reviews =  6 %\n",
      "\n",
      "--------- Reviews --------\n",
      "\n",
      "Уникальные значения в Reviews = ['[[], []]'\n",
      " \"[['Very good reviews!', 'Fine dining in Hakaniemi'], ['12/05/2017', '10/29/2017']]\"\n",
      " \"[['Better than the Links', 'Ivy Black'], ['12/28/2017', '12/06/2017']]\"\n",
      " ...\n",
      " \"[['Good by swedish standards', 'A hidden jewel in the middle of Västertorp...'], ['11/03/2016', '04/12/2008']]\"\n",
      " \"[['Underground restaurant', 'Oldest Restaurant in Warsaw'], ['07/11/2017', '06/18/2017']]\"\n",
      " \"[['Average', 'Nice an informal'], ['01/31/2016', '07/04/2012']]\"]\n",
      "\n",
      "Количество уникальных значений в Reviews = 41857\n",
      "\n",
      "Количество пустых значений в Reviews = 2\n",
      "\n",
      "Процент пустых значений в Reviews =  0 %\n",
      "\n",
      "--------- URL_TA --------\n",
      "\n",
      "Уникальные значения в URL_TA = ['/Restaurant_Review-g187147-d10746918-Reviews-Le_Perchoir-Paris_Ile_de_France.html'\n",
      " '/Restaurant_Review-g189934-d6674944-Reviews-Ravintola_Kolmon3n-Helsinki_Uusimaa.html'\n",
      " '/Restaurant_Review-g186525-d13129638-Reviews-Black_Ivy-Edinburgh_Scotland.html'\n",
      " ...\n",
      " '/Restaurant_Review-g189852-d947615-Reviews-Sushi_Bar_Anu-Stockholm.html'\n",
      " '/Restaurant_Review-g274856-d1100838-Reviews-Honoratka_dawna_Oberza_na_Miodowej-Warsaw_Mazovia_Province_Central_Poland.html'\n",
      " '/Restaurant_Review-g187849-d1109020-Reviews-Taberna_Vasca-Milan_Lombardy.html']\n",
      "\n",
      "Количество уникальных значений в URL_TA = 49963\n",
      "\n",
      "Количество пустых значений в URL_TA = 0\n",
      "\n",
      "Процент пустых значений в URL_TA =  0 %\n",
      "\n",
      "--------- ID_TA --------\n",
      "\n",
      "Уникальные значения в ID_TA = ['d10746918' 'd6674944' 'd13129638' ... 'd947615' 'd1100838' 'd1109020']\n",
      "\n",
      "Количество уникальных значений в ID_TA = 49963\n",
      "\n",
      "Количество пустых значений в ID_TA = 0\n",
      "\n",
      "Процент пустых значений в ID_TA =  0 %\n",
      "\n",
      "--------- sample --------\n",
      "\n",
      "Уникальные значения в sample = [0 1]\n",
      "\n",
      "Количество уникальных значений в sample = 2\n",
      "\n",
      "Количество пустых значений в sample = 0\n",
      "\n",
      "Процент пустых значений в sample =  0 %\n",
      "\n",
      "--------- Rating --------\n",
      "\n",
      "Уникальные значения в Rating = [0.  3.5 4.  4.5 5.  3.  2.5 2.  1.  1.5]\n",
      "\n",
      "Количество уникальных значений в Rating = 10\n",
      "\n",
      "Количество пустых значений в Rating = 0\n",
      "\n",
      "Процент пустых значений в Rating =  0 %\n"
     ]
    }
   ],
   "source": [
    "for c in df.columns:\n",
    "    print(\"\\n--------- %s --------\\n\" % c)\n",
    "    print('Уникальные значения в %s =' % c, df[c].dropna().unique())\n",
    "    print()\n",
    "    print('Количество уникальных значений в %s =' %\n",
    "          c, len(df[c].value_counts().sort_index()))\n",
    "    print()\n",
    "    print('Количество пустых значений в %s =' % c, df[c].isnull().sum(axis=0))\n",
    "    print()\n",
    "    print('Процент пустых значений в %s = ' %\n",
    "          c, round((np.mean(df[c].isnull()))*100), '%')"
   ]
  },
  {
   "cell_type": "markdown",
   "metadata": {
    "papermill": {
     "duration": 0.112251,
     "end_time": "2021-01-19T06:54:01.089592",
     "exception": false,
     "start_time": "2021-01-19T06:54:00.977341",
     "status": "completed"
    },
    "tags": []
   },
   "source": [
    "### Переименование столбцов."
   ]
  },
  {
   "cell_type": "code",
   "execution_count": 172,
   "metadata": {
    "execution": {
     "iopub.execute_input": "2021-01-19T06:54:01.331255Z",
     "iopub.status.busy": "2021-01-19T06:54:01.330407Z",
     "iopub.status.idle": "2021-01-19T06:54:01.334753Z",
     "shell.execute_reply": "2021-01-19T06:54:01.334262Z"
    },
    "papermill": {
     "duration": 0.133092,
     "end_time": "2021-01-19T06:54:01.334853",
     "exception": false,
     "start_time": "2021-01-19T06:54:01.201761",
     "status": "completed"
    },
    "tags": []
   },
   "outputs": [
    {
     "data": {
      "text/html": [
       "<div>\n",
       "<style scoped>\n",
       "    .dataframe tbody tr th:only-of-type {\n",
       "        vertical-align: middle;\n",
       "    }\n",
       "\n",
       "    .dataframe tbody tr th {\n",
       "        vertical-align: top;\n",
       "    }\n",
       "\n",
       "    .dataframe thead th {\n",
       "        text-align: right;\n",
       "    }\n",
       "</style>\n",
       "<table border=\"1\" class=\"dataframe\">\n",
       "  <thead>\n",
       "    <tr style=\"text-align: right;\">\n",
       "      <th></th>\n",
       "      <th>restaurant_id</th>\n",
       "      <th>city</th>\n",
       "      <th>cuisine_style</th>\n",
       "      <th>ranking</th>\n",
       "      <th>price_range</th>\n",
       "      <th>reviews_number</th>\n",
       "      <th>reviews</th>\n",
       "      <th>url_ta</th>\n",
       "      <th>id_ta</th>\n",
       "      <th>sample</th>\n",
       "      <th>rating</th>\n",
       "    </tr>\n",
       "  </thead>\n",
       "  <tbody>\n",
       "    <tr>\n",
       "      <th>0</th>\n",
       "      <td>id_0</td>\n",
       "      <td>Paris</td>\n",
       "      <td>['Bar', 'Pub']</td>\n",
       "      <td>12963.0</td>\n",
       "      <td>$$ - $$$</td>\n",
       "      <td>4.0</td>\n",
       "      <td>[[], []]</td>\n",
       "      <td>/Restaurant_Review-g187147-d10746918-Reviews-L...</td>\n",
       "      <td>d10746918</td>\n",
       "      <td>0</td>\n",
       "      <td>0.0</td>\n",
       "    </tr>\n",
       "  </tbody>\n",
       "</table>\n",
       "</div>"
      ],
      "text/plain": [
       "  restaurant_id   city   cuisine_style  ranking price_range  reviews_number  \\\n",
       "0          id_0  Paris  ['Bar', 'Pub']  12963.0    $$ - $$$             4.0   \n",
       "\n",
       "    reviews                                             url_ta      id_ta  \\\n",
       "0  [[], []]  /Restaurant_Review-g187147-d10746918-Reviews-L...  d10746918   \n",
       "\n",
       "   sample  rating  \n",
       "0       0     0.0  "
      ]
     },
     "execution_count": 172,
     "metadata": {},
     "output_type": "execute_result"
    }
   ],
   "source": [
    "df.rename(columns={'Restaurant_id': 'restaurant_id',\n",
    "                   'City': 'city',\n",
    "                   'Cuisine Style': 'cuisine_style',\n",
    "                   'Ranking': 'ranking',\n",
    "                   'Rating': 'rating',\n",
    "                   'Price Range': 'price_range',\n",
    "                   'Number of Reviews': 'reviews_number',\n",
    "                   'Reviews': 'reviews',\n",
    "                   'URL_TA': 'url_ta',\n",
    "                   'ID_TA': 'id_ta'}, inplace=True)\n",
    "df.head(1)"
   ]
  },
  {
   "cell_type": "markdown",
   "metadata": {
    "papermill": {
     "duration": 0.114288,
     "end_time": "2021-01-19T06:54:03.192632",
     "exception": false,
     "start_time": "2021-01-19T06:54:03.078344",
     "status": "completed"
    },
    "tags": []
   },
   "source": [
    "## Итог\n",
    "\n",
    "Датафрейм имеет 50000 строк и 10 столбцов  \n",
    "В столбце \"cuisine_style\" 23% пропущенных значений  \n",
    "В столбце \"price_range\" 35% пропущенных значений  \n",
    "В столбце \"reviews_number\" 6% пропущенных значений \n",
    "В столбце «reviews» нет ни одного пропущенного значения, но в тоже время имеется следующее значение: «[[], []]». Определенно это пропущенное значение, которое необходимо обработать при дальнейшей обработке данных.  "
   ]
  },
  {
   "cell_type": "markdown",
   "metadata": {
    "papermill": {
     "duration": 0.113574,
     "end_time": "2021-01-19T06:54:03.420763",
     "exception": false,
     "start_time": "2021-01-19T06:54:03.307189",
     "status": "completed"
    },
    "tags": []
   },
   "source": [
    "# 2. Первичный анализ и предобработка предоставленных данных:"
   ]
  },
  {
   "cell_type": "markdown",
   "metadata": {},
   "source": [
    "### 2.1 Рейтинг"
   ]
  },
  {
   "cell_type": "code",
   "execution_count": 173,
   "metadata": {
    "execution": {
     "iopub.execute_input": "2021-01-19T06:54:04.153696Z",
     "iopub.status.busy": "2021-01-19T06:54:04.150321Z",
     "iopub.status.idle": "2021-01-19T06:54:04.428151Z",
     "shell.execute_reply": "2021-01-19T06:54:04.428569Z"
    },
    "papermill": {
     "duration": 0.40396,
     "end_time": "2021-01-19T06:54:04.428695",
     "exception": false,
     "start_time": "2021-01-19T06:54:04.024735",
     "status": "completed"
    },
    "tags": []
   },
   "outputs": [
    {
     "data": {
      "text/plain": [
       "Text(0.5, 0, 'Рейтинг')"
      ]
     },
     "execution_count": 173,
     "metadata": {},
     "output_type": "execute_result"
    },
    {
     "data": {
      "image/png": "[encoded data removed]",
      "text/plain": [
       "<Figure size 1080x360 with 2 Axes>"
      ]
     },
     "metadata": {
      "needs_background": "light"
     },
     "output_type": "display_data"
    }
   ],
   "source": [
    "plt.figure(figsize=(15, 5))\n",
    "plt.subplot(121)\n",
    "sns.distplot(df_train.Rating.values, bins=10)\n",
    "plt.title('Распределение рейтингов\\n', fontsize=15)\n",
    "plt.xlabel('Рейтинг')\n",
    "plt.ylabel('Количество')\n",
    "\n",
    "plt.subplot(122)\n",
    "sns.boxplot(df_train.Rating.values)\n",
    "plt.title('Распределение рейтингов\\n', fontsize=15)\n",
    "plt.xlabel('Рейтинг')"
   ]
  },
  {
   "cell_type": "code",
   "execution_count": 174,
   "metadata": {
    "execution": {
     "iopub.execute_input": "2021-01-19T06:54:04.669199Z",
     "iopub.status.busy": "2021-01-19T06:54:04.668306Z",
     "iopub.status.idle": "2021-01-19T06:54:04.676100Z",
     "shell.execute_reply": "2021-01-19T06:54:04.675595Z"
    },
    "papermill": {
     "duration": 0.128807,
     "end_time": "2021-01-19T06:54:04.676212",
     "exception": false,
     "start_time": "2021-01-19T06:54:04.547405",
     "status": "completed"
    },
    "tags": []
   },
   "outputs": [
    {
     "data": {
      "text/plain": [
       "count    40000.000000\n",
       "mean         3.993037\n",
       "std          0.668417\n",
       "min          1.000000\n",
       "25%          3.500000\n",
       "50%          4.000000\n",
       "75%          4.500000\n",
       "max          5.000000\n",
       "Name: Rating, dtype: float64"
      ]
     },
     "execution_count": 174,
     "metadata": {},
     "output_type": "execute_result"
    }
   ],
   "source": [
    "df_train['Rating'].describe()"
   ]
  },
  {
   "cell_type": "markdown",
   "metadata": {
    "papermill": {
     "duration": 0.118067,
     "end_time": "2021-01-19T06:54:04.910852",
     "exception": false,
     "start_time": "2021-01-19T06:54:04.792785",
     "status": "completed"
    },
    "tags": []
   },
   "source": [
    "Целевая переменная имеет нормальное распределение, смещенное вправо от 1 до 5.   \n",
    "Первый и третий квартили находятся в диапазоне от 3,5 до 4,5, медиана - 4.   \n",
    "Также наблюдались выбросы для целевой переменной."
   ]
  },
  {
   "cell_type": "markdown",
   "metadata": {
    "papermill": {
     "duration": 0.115425,
     "end_time": "2021-01-19T06:54:05.142493",
     "exception": false,
     "start_time": "2021-01-19T06:54:05.027068",
     "status": "completed"
    },
    "tags": []
   },
   "source": [
    "### 2.2 Идентификационный номер ресторана"
   ]
  },
  {
   "cell_type": "code",
   "execution_count": 175,
   "metadata": {
    "execution": {
     "iopub.execute_input": "2021-01-19T06:54:05.390865Z",
     "iopub.status.busy": "2021-01-19T06:54:05.390306Z",
     "iopub.status.idle": "2021-01-19T06:54:05.426409Z",
     "shell.execute_reply": "2021-01-19T06:54:05.427099Z"
    },
    "papermill": {
     "duration": 0.16694,
     "end_time": "2021-01-19T06:54:05.427257",
     "exception": false,
     "start_time": "2021-01-19T06:54:05.260317",
     "status": "completed"
    },
    "tags": []
   },
   "outputs": [
    {
     "name": "stdout",
     "output_type": "stream",
     "text": [
      "Уникальные значения: 13094\n"
     ]
    },
    {
     "data": {
      "text/plain": [
       "id_436      19\n",
       "id_871      19\n",
       "id_633      19\n",
       "id_227      19\n",
       "id_430      18\n",
       "            ..\n",
       "id_7129      1\n",
       "id_10639     1\n",
       "id_6685      1\n",
       "id_15923     1\n",
       "id_14048     1\n",
       "Name: restaurant_id, Length: 13094, dtype: int64"
      ]
     },
     "execution_count": 175,
     "metadata": {},
     "output_type": "execute_result"
    }
   ],
   "source": [
    "print(f'Уникальные значения: {df.restaurant_id.nunique()}')\n",
    "df['restaurant_id'].value_counts()"
   ]
  },
  {
   "cell_type": "markdown",
   "metadata": {
    "papermill": {
     "duration": 0.123599,
     "end_time": "2021-01-19T06:54:05.667658",
     "exception": false,
     "start_time": "2021-01-19T06:54:05.544059",
     "status": "completed"
    },
    "tags": []
   },
   "source": [
    "Общее количество строк составляет 50.000, количество уникальных идентификаторов - 13.094\n",
    "Несколько ресторанов в наборе данных являются сетевыми, что подтверждается описанием датасета."
   ]
  },
  {
   "cell_type": "markdown",
   "metadata": {
    "papermill": {
     "duration": 0.116854,
     "end_time": "2021-01-19T06:54:05.904146",
     "exception": false,
     "start_time": "2021-01-19T06:54:05.787292",
     "status": "completed"
    },
    "tags": []
   },
   "source": [
    "### 2.3 Город"
   ]
  },
  {
   "cell_type": "code",
   "execution_count": 176,
   "metadata": {
    "execution": {
     "iopub.execute_input": "2021-01-19T06:54:06.140662Z",
     "iopub.status.busy": "2021-01-19T06:54:06.139853Z",
     "iopub.status.idle": "2021-01-19T06:54:06.455791Z",
     "shell.execute_reply": "2021-01-19T06:54:06.456251Z"
    },
    "papermill": {
     "duration": 0.435284,
     "end_time": "2021-01-19T06:54:06.456384",
     "exception": false,
     "start_time": "2021-01-19T06:54:06.021100",
     "status": "completed"
    },
    "tags": []
   },
   "outputs": [
    {
     "name": "stdout",
     "output_type": "stream",
     "text": [
      "Количество городов: 31\n"
     ]
    },
    {
     "data": {
      "image/png": "[encoded data removed]",
      "text/plain": [
       "<Figure size 1500x500 with 1 Axes>"
      ]
     },
     "metadata": {
      "needs_background": "light"
     },
     "output_type": "display_data"
    }
   ],
   "source": [
    "plt.figure(figsize=(15, 5), dpi=100)\n",
    "sns.countplot(df['city'], order=df['city'].value_counts().index)\n",
    "plt.xticks(rotation=90)\n",
    "print(f'Количество городов: {df.city.nunique()}')"
   ]
  },
  {
   "cell_type": "markdown",
   "metadata": {
    "papermill": {
     "duration": 0.118478,
     "end_time": "2021-01-19T06:54:06.727072",
     "exception": false,
     "start_time": "2021-01-19T06:54:06.608594",
     "status": "completed"
    },
    "tags": []
   },
   "source": [
    "Все города находятся в Европе.  \n",
    "Большинство ресторанов расположены в Лондоне, Париже, Мадриде."
   ]
  },
  {
   "cell_type": "markdown",
   "metadata": {
    "papermill": {
     "duration": 0.118865,
     "end_time": "2021-01-19T06:54:07.256583",
     "exception": false,
     "start_time": "2021-01-19T06:54:07.137718",
     "status": "completed"
    },
    "tags": []
   },
   "source": [
    "### 2.4 Кухня"
   ]
  },
  {
   "cell_type": "markdown",
   "metadata": {
    "papermill": {
     "duration": 0.123527,
     "end_time": "2021-01-19T06:54:07.501618",
     "exception": false,
     "start_time": "2021-01-19T06:54:07.378091",
     "status": "completed"
    },
    "tags": []
   },
   "source": [
    "Для набора статистики раскроем все представленные в датасете типы кухонь.   \n",
    "Создадим отдельный список ресторанов у которых отсутвует значение.  \n",
    "Пустые значения заполним переменной \"unknown\""
   ]
  },
  {
   "cell_type": "code",
   "execution_count": 177,
   "metadata": {
    "execution": {
     "iopub.execute_input": "2021-01-19T06:54:07.748049Z",
     "iopub.status.busy": "2021-01-19T06:54:07.747254Z",
     "iopub.status.idle": "2021-01-19T06:54:08.308564Z",
     "shell.execute_reply": "2021-01-19T06:54:08.309025Z"
    },
    "papermill": {
     "duration": 0.68402,
     "end_time": "2021-01-19T06:54:08.309149",
     "exception": false,
     "start_time": "2021-01-19T06:54:07.625129",
     "status": "completed"
    },
    "scrolled": false,
    "tags": []
   },
   "outputs": [],
   "source": [
    "df['cuisine_style_empty'] = df['cuisine_style'].isnull().astype(\n",
    "    'uint8')  # рестораны без кухонь\n",
    "df['cuisine_style'] = df['cuisine_style'].fillna(\n",
    "    \"['unknown']\")  # замена NaN на unknown\n",
    "df['cuisine_style'] = df['cuisine_style'].apply(\n",
    "    lambda x: eval(x))  # transform to a list"
   ]
  },
  {
   "cell_type": "markdown",
   "metadata": {},
   "source": [
    "Создадим отдельный датафрейм для предворительного анализа"
   ]
  },
  {
   "cell_type": "code",
   "execution_count": 178,
   "metadata": {
    "execution": {
     "iopub.execute_input": "2021-01-19T06:54:08.554880Z",
     "iopub.status.busy": "2021-01-19T06:54:08.554066Z",
     "iopub.status.idle": "2021-01-19T06:54:08.682834Z",
     "shell.execute_reply": "2021-01-19T06:54:08.682179Z"
    },
    "papermill": {
     "duration": 0.251451,
     "end_time": "2021-01-19T06:54:08.682980",
     "exception": false,
     "start_time": "2021-01-19T06:54:08.431529",
     "status": "completed"
    },
    "tags": []
   },
   "outputs": [
    {
     "name": "stdout",
     "output_type": "stream",
     "text": [
      "Кол-во уникальных значений: 125\n"
     ]
    }
   ],
   "source": [
    "df1 = df[['city', 'cuisine_style', 'ranking', 'rating',\n",
    "          'reviews_number']].explode('cuisine_style')\n",
    "# (-1 для кухни \"unknown\")\n",
    "print(f'Кол-во уникальных значений: {df1.cuisine_style.nunique()-1}')"
   ]
  },
  {
   "cell_type": "markdown",
   "metadata": {
    "papermill": {
     "duration": 0.123741,
     "end_time": "2021-01-19T06:54:08.933820",
     "exception": false,
     "start_time": "2021-01-19T06:54:08.810079",
     "status": "completed"
    },
    "tags": []
   },
   "source": [
    "Топ 15 кухонь представленных в датасете"
   ]
  },
  {
   "cell_type": "code",
   "execution_count": 179,
   "metadata": {
    "execution": {
     "iopub.execute_input": "2021-01-19T06:54:09.223874Z",
     "iopub.status.busy": "2021-01-19T06:54:09.222982Z",
     "iopub.status.idle": "2021-01-19T06:54:09.338290Z",
     "shell.execute_reply": "2021-01-19T06:54:09.337774Z"
    },
    "papermill": {
     "duration": 0.281758,
     "end_time": "2021-01-19T06:54:09.338399",
     "exception": false,
     "start_time": "2021-01-19T06:54:09.056641",
     "status": "completed"
    },
    "tags": []
   },
   "outputs": [
    {
     "data": {
      "text/plain": [
       "Text(0.5, 1.0, '15 самых популярных кухнь')"
      ]
     },
     "execution_count": 179,
     "metadata": {},
     "output_type": "execute_result"
    },
    {
     "data": {
      "image/png": "[encoded data removed]",
      "text/plain": [
       "<Figure size 1080x720 with 1 Axes>"
      ]
     },
     "metadata": {
      "needs_background": "light"
     },
     "output_type": "display_data"
    }
   ],
   "source": [
    "df_cuisine_style = df1['cuisine_style'].value_counts(\n",
    ").sort_values(ascending=False)[:15]\n",
    "fig = plt.figure(figsize=(15, 10))\n",
    "ax = plt.subplot()\n",
    "plt.bar(x=df_cuisine_style.index, height=df_cuisine_style)\n",
    "plt.xticks(rotation=90)\n",
    "plt.title('15 самых популярных кухнь')"
   ]
  },
  {
   "cell_type": "markdown",
   "metadata": {
    "papermill": {
     "duration": 0.12326,
     "end_time": "2021-01-19T06:54:09.583267",
     "exception": false,
     "start_time": "2021-01-19T06:54:09.460007",
     "status": "completed"
    },
    "tags": []
   },
   "source": [
    "В наборе данных представлено 125 типов кухонь.\n",
    "Одни из самых распространённых являются вегетарианская, веганская и безглютеновая, в дальнейшем эти значения можно объединить."
   ]
  },
  {
   "cell_type": "markdown",
   "metadata": {
    "papermill": {
     "duration": 0.13101,
     "end_time": "2021-01-19T06:54:09.837857",
     "exception": false,
     "start_time": "2021-01-19T06:54:09.706847",
     "status": "completed"
    },
    "tags": []
   },
   "source": [
    "Оценим на какие  типы кухонь чаше всего оставляют отзывы."
   ]
  },
  {
   "cell_type": "code",
   "execution_count": 180,
   "metadata": {
    "execution": {
     "iopub.execute_input": "2021-01-19T06:54:10.104362Z",
     "iopub.status.busy": "2021-01-19T06:54:10.099272Z",
     "iopub.status.idle": "2021-01-19T06:54:10.239315Z",
     "shell.execute_reply": "2021-01-19T06:54:10.239690Z"
    },
    "papermill": {
     "duration": 0.277795,
     "end_time": "2021-01-19T06:54:10.239814",
     "exception": false,
     "start_time": "2021-01-19T06:54:09.962019",
     "status": "completed"
    },
    "tags": []
   },
   "outputs": [
    {
     "data": {
      "text/plain": [
       "Text(0.5, 1.0, '15 самых комментируемых кухонь')"
      ]
     },
     "execution_count": 180,
     "metadata": {},
     "output_type": "execute_result"
    },
    {
     "data": {
      "image/png": "[encoded data removed]",
      "text/plain": [
       "<Figure size 1080x720 with 1 Axes>"
      ]
     },
     "metadata": {
      "needs_background": "light"
     },
     "output_type": "display_data"
    }
   ],
   "source": [
    "df_cuisine_style = df1.groupby(\n",
    "    'cuisine_style').reviews_number.sum().sort_values(ascending=False)[:15]\n",
    "\n",
    "fig = plt.figure(figsize=(15, 10))\n",
    "ax = plt.subplot()\n",
    "plt.bar(x=df_cuisine_style.index, height=df_cuisine_style)\n",
    "plt.xticks(rotation=90)\n",
    "plt.title('15 самых комментируемых кухонь')"
   ]
  },
  {
   "cell_type": "raw",
   "metadata": {
    "papermill": {
     "duration": 0.126372,
     "end_time": "2021-01-19T06:54:10.493220",
     "exception": false,
     "start_time": "2021-01-19T06:54:10.366848",
     "status": "completed"
    },
    "tags": []
   },
   "source": [
    "Таблицы имеют схожее распределение значений, чаше всего отзывы оставляют на \"полезную еду\"."
   ]
  },
  {
   "cell_type": "markdown",
   "metadata": {
    "papermill": {
     "duration": 0.120618,
     "end_time": "2021-01-19T06:54:10.740701",
     "exception": false,
     "start_time": "2021-01-19T06:54:10.620083",
     "status": "completed"
    },
    "tags": []
   },
   "source": [
    "### 2.5 Ранг ресторана"
   ]
  },
  {
   "cell_type": "code",
   "execution_count": 181,
   "metadata": {
    "execution": {
     "iopub.execute_input": "2021-01-19T06:54:11.259345Z",
     "iopub.status.busy": "2021-01-19T06:54:11.258478Z",
     "iopub.status.idle": "2021-01-19T06:54:11.526122Z",
     "shell.execute_reply": "2021-01-19T06:54:11.525700Z"
    },
    "papermill": {
     "duration": 0.403096,
     "end_time": "2021-01-19T06:54:11.526233",
     "exception": false,
     "start_time": "2021-01-19T06:54:11.123137",
     "status": "completed"
    },
    "tags": []
   },
   "outputs": [
    {
     "data": {
      "text/plain": [
       "Text(0.5, 0, 'Ранг')"
      ]
     },
     "execution_count": 181,
     "metadata": {},
     "output_type": "execute_result"
    },
    {
     "data": {
      "image/png": "[encoded data removed]",
      "text/plain": [
       "<Figure size 1080x360 with 2 Axes>"
      ]
     },
     "metadata": {
      "needs_background": "light"
     },
     "output_type": "display_data"
    }
   ],
   "source": [
    "plt.figure(figsize=(15, 5))\n",
    "plt.subplot(121)\n",
    "sns.distplot(df.ranking.values, bins=25)\n",
    "plt.title('Распределение ранга ресторана\\n', fontsize=15)\n",
    "plt.xlabel('Ранг')\n",
    "plt.ylabel('Количество')\n",
    "\n",
    "plt.subplot(122)\n",
    "sns.boxplot(df.ranking.values)\n",
    "plt.title('Распределение ранга ресторана\\n', fontsize=15)\n",
    "plt.xlabel('Ранг')"
   ]
  },
  {
   "cell_type": "code",
   "execution_count": 182,
   "metadata": {
    "execution": {
     "iopub.execute_input": "2021-01-19T06:54:11.781137Z",
     "iopub.status.busy": "2021-01-19T06:54:11.780190Z",
     "iopub.status.idle": "2021-01-19T06:54:11.787695Z",
     "shell.execute_reply": "2021-01-19T06:54:11.788257Z"
    },
    "papermill": {
     "duration": 0.137895,
     "end_time": "2021-01-19T06:54:11.788379",
     "exception": false,
     "start_time": "2021-01-19T06:54:11.650484",
     "status": "completed"
    },
    "tags": []
   },
   "outputs": [
    {
     "data": {
      "text/plain": [
       "count    50000.000000\n",
       "mean      3664.427520\n",
       "std       3700.092452\n",
       "min          1.000000\n",
       "25%        972.000000\n",
       "50%       2278.000000\n",
       "75%       5241.000000\n",
       "max      16444.000000\n",
       "Name: ranking, dtype: float64"
      ]
     },
     "execution_count": 182,
     "metadata": {},
     "output_type": "execute_result"
    }
   ],
   "source": [
    "df['ranking'].describe()"
   ]
  },
  {
   "cell_type": "markdown",
   "metadata": {
    "papermill": {
     "duration": 0.126154,
     "end_time": "2021-01-19T06:54:12.042260",
     "exception": false,
     "start_time": "2021-01-19T06:54:11.916106",
     "status": "completed"
    },
    "tags": []
   },
   "source": [
    "Из-за большого разброса значений а также сильного смешения, мы не можем оценивать, ранг без учёта города.  \n",
    "Проведеём дополнительную оценку по каждому городу отдельно, для анализа возьмём 15 первых значений."
   ]
  },
  {
   "cell_type": "code",
   "execution_count": 183,
   "metadata": {
    "execution": {
     "iopub.execute_input": "2021-01-19T06:54:12.545725Z",
     "iopub.status.busy": "2021-01-19T06:54:12.545121Z",
     "iopub.status.idle": "2021-01-19T06:54:13.178467Z",
     "shell.execute_reply": "2021-01-19T06:54:13.177889Z"
    },
    "papermill": {
     "duration": 0.761271,
     "end_time": "2021-01-19T06:54:13.178576",
     "exception": false,
     "start_time": "2021-01-19T06:54:12.417305",
     "status": "completed"
    },
    "tags": []
   },
   "outputs": [
    {
     "data": {
      "text/plain": [
       "Text(0, 0.5, 'Количество')"
      ]
     },
     "execution_count": 183,
     "metadata": {},
     "output_type": "execute_result"
    },
    {
     "data": {
      "image/png": "[encoded data removed]",
      "text/plain": [
       "<Figure size 1080x720 with 1 Axes>"
      ]
     },
     "metadata": {
      "needs_background": "light"
     },
     "output_type": "display_data"
    }
   ],
   "source": [
    "plt.figure(figsize=(15, 10))\n",
    "\n",
    "for city in (df['city'].value_counts())[0:15].index:\n",
    "    sns.distplot(df['ranking'][df['city'] == city], kde=False, label=city)\n",
    "\n",
    "plt.legend(prop={'size': 12})\n",
    "plt.title('Распределение ранга ресторана по городам\\n', fontsize=15)\n",
    "plt.xlabel('Ранг')\n",
    "plt.ylabel('Количество')"
   ]
  },
  {
   "cell_type": "markdown",
   "metadata": {
    "papermill": {
     "duration": 0.12782,
     "end_time": "2021-01-19T06:54:13.443874",
     "exception": false,
     "start_time": "2021-01-19T06:54:13.316054",
     "status": "completed"
    },
    "tags": []
   },
   "source": [
    "Ранг ресторана имеет нормальное распределение в каждом отдельном городе, просто в больших городах больше ресторанов, из-за мы этого имеем смещение.\n"
   ]
  },
  {
   "cell_type": "markdown",
   "metadata": {
    "papermill": {
     "duration": 0.130556,
     "end_time": "2021-01-19T06:54:13.699518",
     "exception": false,
     "start_time": "2021-01-19T06:54:13.568962",
     "status": "completed"
    },
    "tags": []
   },
   "source": [
    "### 2.6 Цены в ресторане"
   ]
  },
  {
   "cell_type": "raw",
   "metadata": {
    "papermill": {
     "duration": 0.125316,
     "end_time": "2021-01-19T06:54:13.950983",
     "exception": false,
     "start_time": "2021-01-19T06:54:13.825667",
     "status": "completed"
    },
    "tags": []
   },
   "source": [
    "Первичный анализ показал, что данный столбец содержит 35% пустых значений.  \n",
    "Значения представленый символом доллара и разделены между тремя уникальными значеними.  \n",
    "Заменим эти значения на цифры в порядке возрастания (1 - $, 2 - $$ - $$$, 3 - $$$$),   \n",
    "а так-же замениним пустые значение наиболее часто встречаюшимся значением."
   ]
  },
  {
   "cell_type": "code",
   "execution_count": 184,
   "metadata": {
    "scrolled": true
   },
   "outputs": [],
   "source": [
    "price_ranges = {'$': 1, '$$ - $$$': 2, '$$$$': 3}\n",
    "df['price_range'] = df['price_range'].map(price_ranges)\n",
    "df['price_range'] = df['price_range'].fillna(2)"
   ]
  },
  {
   "cell_type": "code",
   "execution_count": 185,
   "metadata": {
    "execution": {
     "iopub.execute_input": "2021-01-19T06:54:14.478914Z",
     "iopub.status.busy": "2021-01-19T06:54:14.478416Z",
     "iopub.status.idle": "2021-01-19T06:54:14.731086Z",
     "shell.execute_reply": "2021-01-19T06:54:14.731487Z"
    },
    "papermill": {
     "duration": 0.379953,
     "end_time": "2021-01-19T06:54:14.731612",
     "exception": false,
     "start_time": "2021-01-19T06:54:14.351659",
     "status": "completed"
    },
    "tags": []
   },
   "outputs": [
    {
     "data": {
      "text/plain": [
       "Text(0, 0.5, 'Рейтинг')"
      ]
     },
     "execution_count": 185,
     "metadata": {},
     "output_type": "execute_result"
    },
    {
     "data": {
      "image/png": "[encoded data removed]",
      "text/plain": [
       "<Figure size 720x360 with 1 Axes>"
      ]
     },
     "metadata": {
      "needs_background": "light"
     },
     "output_type": "display_data"
    }
   ],
   "source": [
    "plt.figure(figsize=(10, 5))\n",
    "\n",
    "sns.boxplot(x='price_range', y='rating', data=df)\n",
    "\n",
    "plt.title('Цены в ресторане по отношению к рейтингу\\n', fontsize=15)\n",
    "plt.xlabel('Цены в ресторане')\n",
    "plt.ylabel('Рейтинг')"
   ]
  },
  {
   "cell_type": "markdown",
   "metadata": {
    "papermill": {
     "duration": 0.126387,
     "end_time": "2021-01-19T06:54:14.984897",
     "exception": false,
     "start_time": "2021-01-19T06:54:14.858510",
     "status": "completed"
    },
    "tags": []
   },
   "source": [
    "Рестораны с высокими ценами реже получают низкие оценки, чем рестораны со средним и дешевым уровнем.\n"
   ]
  },
  {
   "cell_type": "markdown",
   "metadata": {},
   "source": [
    "Проверим влияние ценовой категории ресторана на количество отзывов"
   ]
  },
  {
   "cell_type": "code",
   "execution_count": 186,
   "metadata": {
    "execution": {
     "iopub.execute_input": "2021-01-19T06:54:15.491525Z",
     "iopub.status.busy": "2021-01-19T06:54:15.490972Z",
     "iopub.status.idle": "2021-01-19T06:54:18.937890Z",
     "shell.execute_reply": "2021-01-19T06:54:18.938474Z"
    },
    "papermill": {
     "duration": 3.575508,
     "end_time": "2021-01-19T06:54:18.938611",
     "exception": false,
     "start_time": "2021-01-19T06:54:15.363103",
     "status": "completed"
    },
    "scrolled": true,
    "tags": []
   },
   "outputs": [
    {
     "data": {
      "image/png": "[encoded data removed]",
      "text/plain": [
       "<Figure size 1080x2880 with 32 Axes>"
      ]
     },
     "metadata": {
      "needs_background": "light"
     },
     "output_type": "display_data"
    }
   ],
   "source": [
    "df_valid_rev = df[df['price_range'] != 'NotAvailable']\n",
    "cities = df_valid_rev['city'].unique()\n",
    "\n",
    "fig_price_ranges, ax_price_ranges = plt.subplots(16, 2, figsize=(15, 40))\n",
    "\n",
    "ind = 1\n",
    "for i in range(1, 17):\n",
    "    for j in range(1, 3):\n",
    "        if (ind <= len(cities)):\n",
    "            city = cities[ind-1]\n",
    "            ind += 1\n",
    "            city_revs = df_valid_rev[df_valid_rev.city == city]\n",
    "            df_revs = pd.DataFrame(city_revs.groupby(\n",
    "                ['city', 'price_range']).restaurant_id.count())\n",
    "            df_revs = df_revs.reset_index()\n",
    "            fig_price_ranges.add_subplot(ax_price_ranges[i-1, j-1])\n",
    "            sns.barplot(data=df_revs, x='city',\n",
    "                        y='restaurant_id', hue='price_range')\n",
    "            plt.ylabel('Отзывы - Цена')"
   ]
  },
  {
   "cell_type": "markdown",
   "metadata": {
    "papermill": {
     "duration": 0.131785,
     "end_time": "2021-01-19T06:54:19.202469",
     "exception": false,
     "start_time": "2021-01-19T06:54:19.070684",
     "status": "completed"
    },
    "tags": []
   },
   "source": [
    "Больше всего отзывов у ресторанов средней ценовой категории."
   ]
  },
  {
   "cell_type": "markdown",
   "metadata": {
    "papermill": {
     "duration": 0.131748,
     "end_time": "2021-01-19T06:54:19.465118",
     "exception": false,
     "start_time": "2021-01-19T06:54:19.333370",
     "status": "completed"
    },
    "tags": []
   },
   "source": [
    "Посчитаем среднее количество отзывов для каждого ценового диапазона.\n",
    "Для этого просуммируем отзывы по городам и ценовым категориям, затем получим количество ресторанов по городу и цене."
   ]
  },
  {
   "cell_type": "code",
   "execution_count": 187,
   "metadata": {
    "execution": {
     "iopub.execute_input": "2021-01-19T06:54:19.730740Z",
     "iopub.status.busy": "2021-01-19T06:54:19.730225Z",
     "iopub.status.idle": "2021-01-19T06:54:19.770073Z",
     "shell.execute_reply": "2021-01-19T06:54:19.770522Z"
    },
    "papermill": {
     "duration": 0.173585,
     "end_time": "2021-01-19T06:54:19.770637",
     "exception": false,
     "start_time": "2021-01-19T06:54:19.597052",
     "status": "completed"
    },
    "tags": []
   },
   "outputs": [],
   "source": [
    "reviews_city_price = pd.DataFrame(df_valid_rev.groupby(\n",
    "    ['city', 'price_range']).reviews_number.sum())  # сумма отзывов по городу\n",
    "places_city_price = pd.DataFrame(df_valid_rev.groupby(\n",
    "    ['city', 'price_range']).restaurant_id.count())  # кол-во ресторанов по городу\n",
    "reviews_city_price['restaurants_number'] = places_city_price['restaurant_id']\n",
    "reviews_city_price['avg_reviews'] = round(\n",
    "    reviews_city_price.reviews_number / reviews_city_price.restaurants_number, 1)  # среднее количество отзывов по цене"
   ]
  },
  {
   "cell_type": "code",
   "execution_count": 188,
   "metadata": {
    "execution": {
     "iopub.execute_input": "2021-01-19T06:54:20.042542Z",
     "iopub.status.busy": "2021-01-19T06:54:20.042002Z",
     "iopub.status.idle": "2021-01-19T06:54:20.051265Z",
     "shell.execute_reply": "2021-01-19T06:54:20.051740Z"
    },
    "papermill": {
     "duration": 0.149046,
     "end_time": "2021-01-19T06:54:20.051847",
     "exception": false,
     "start_time": "2021-01-19T06:54:19.902801",
     "status": "completed"
    },
    "tags": []
   },
   "outputs": [
    {
     "data": {
      "text/html": [
       "<div>\n",
       "<style scoped>\n",
       "    .dataframe tbody tr th:only-of-type {\n",
       "        vertical-align: middle;\n",
       "    }\n",
       "\n",
       "    .dataframe tbody tr th {\n",
       "        vertical-align: top;\n",
       "    }\n",
       "\n",
       "    .dataframe thead th {\n",
       "        text-align: right;\n",
       "    }\n",
       "</style>\n",
       "<table border=\"1\" class=\"dataframe\">\n",
       "  <thead>\n",
       "    <tr style=\"text-align: right;\">\n",
       "      <th></th>\n",
       "      <th></th>\n",
       "      <th>reviews_number</th>\n",
       "      <th>restaurants_number</th>\n",
       "      <th>avg_reviews</th>\n",
       "    </tr>\n",
       "    <tr>\n",
       "      <th>city</th>\n",
       "      <th>price_range</th>\n",
       "      <th></th>\n",
       "      <th></th>\n",
       "      <th></th>\n",
       "    </tr>\n",
       "  </thead>\n",
       "  <tbody>\n",
       "    <tr>\n",
       "      <th rowspan=\"3\" valign=\"top\">Amsterdam</th>\n",
       "      <th>1.0</th>\n",
       "      <td>24898.0</td>\n",
       "      <td>217</td>\n",
       "      <td>114.7</td>\n",
       "    </tr>\n",
       "    <tr>\n",
       "      <th>2.0</th>\n",
       "      <td>148521.0</td>\n",
       "      <td>1114</td>\n",
       "      <td>133.3</td>\n",
       "    </tr>\n",
       "    <tr>\n",
       "      <th>3.0</th>\n",
       "      <td>20395.0</td>\n",
       "      <td>41</td>\n",
       "      <td>497.4</td>\n",
       "    </tr>\n",
       "    <tr>\n",
       "      <th rowspan=\"2\" valign=\"top\">Athens</th>\n",
       "      <th>1.0</th>\n",
       "      <td>11264.0</td>\n",
       "      <td>180</td>\n",
       "      <td>62.6</td>\n",
       "    </tr>\n",
       "    <tr>\n",
       "      <th>2.0</th>\n",
       "      <td>51009.0</td>\n",
       "      <td>572</td>\n",
       "      <td>89.2</td>\n",
       "    </tr>\n",
       "  </tbody>\n",
       "</table>\n",
       "</div>"
      ],
      "text/plain": [
       "                       reviews_number  restaurants_number  avg_reviews\n",
       "city      price_range                                                 \n",
       "Amsterdam 1.0                 24898.0                 217        114.7\n",
       "          2.0                148521.0                1114        133.3\n",
       "          3.0                 20395.0                  41        497.4\n",
       "Athens    1.0                 11264.0                 180         62.6\n",
       "          2.0                 51009.0                 572         89.2"
      ]
     },
     "execution_count": 188,
     "metadata": {},
     "output_type": "execute_result"
    }
   ],
   "source": [
    "reviews_city_price.head()"
   ]
  },
  {
   "cell_type": "code",
   "execution_count": 189,
   "metadata": {
    "execution": {
     "iopub.execute_input": "2021-01-19T06:54:20.319069Z",
     "iopub.status.busy": "2021-01-19T06:54:20.318549Z",
     "iopub.status.idle": "2021-01-19T06:54:23.649074Z",
     "shell.execute_reply": "2021-01-19T06:54:23.648535Z"
    },
    "papermill": {
     "duration": 3.465389,
     "end_time": "2021-01-19T06:54:23.649184",
     "exception": false,
     "start_time": "2021-01-19T06:54:20.183795",
     "status": "completed"
    },
    "scrolled": true,
    "tags": []
   },
   "outputs": [
    {
     "data": {
      "image/png": "[encoded data removed]",
      "text/plain": [
       "<Figure size 1440x2880 with 32 Axes>"
      ]
     },
     "metadata": {
      "needs_background": "light"
     },
     "output_type": "display_data"
    }
   ],
   "source": [
    "fig_price_ranges, ax_price_ranges = plt.subplots(16, 2, figsize=(20, 40))\n",
    "\n",
    "ind = 1\n",
    "for i in range(1, 17):\n",
    "    for j in range(1, 3):\n",
    "        if (ind <= len(cities)):\n",
    "            city = cities[ind-1]\n",
    "            ind += 1\n",
    "            city_revs = pd.DataFrame(\n",
    "                reviews_city_price.loc[(city), 'avg_reviews'])\n",
    "            city_revs['city'] = city\n",
    "            city_revs = city_revs.reset_index()\n",
    "            fig_price_ranges.add_subplot(ax_price_ranges[i-1, j-1])\n",
    "            sns.barplot(data=city_revs, x='city',\n",
    "                        y='avg_reviews', hue='price_range')\n",
    "            plt.ylabel('Сред кол-во отзывов')"
   ]
  },
  {
   "cell_type": "markdown",
   "metadata": {
    "papermill": {
     "duration": 0.137386,
     "end_time": "2021-01-19T06:54:23.924250",
     "exception": false,
     "start_time": "2021-01-19T06:54:23.786864",
     "status": "completed"
    },
    "tags": []
   },
   "source": [
    "В подавляющем большинстве городов самые обсуждаемые рестораны относятся к высокому ценовому диапазону: чем выше ожидаемое качество, тем выше внимание клиентов."
   ]
  },
  {
   "cell_type": "markdown",
   "metadata": {
    "papermill": {
     "duration": 0.138084,
     "end_time": "2021-01-19T06:54:24.199562",
     "exception": false,
     "start_time": "2021-01-19T06:54:24.061478",
     "status": "completed"
    },
    "tags": []
   },
   "source": [
    "### 2.7 Количество отзывов"
   ]
  },
  {
   "cell_type": "code",
   "execution_count": 190,
   "metadata": {
    "scrolled": false
   },
   "outputs": [
    {
     "data": {
      "text/plain": [
       "Text(0, 0.5, 'кол-во отзывов')"
      ]
     },
     "execution_count": 190,
     "metadata": {},
     "output_type": "execute_result"
    },
    {
     "data": {
      "image/png": "[encoded data removed]",
      "text/plain": [
       "<Figure size 1080x1080 with 1 Axes>"
      ]
     },
     "metadata": {
      "needs_background": "light"
     },
     "output_type": "display_data"
    }
   ],
   "source": [
    "plt.figure(figsize=(15, 15))\n",
    "\n",
    "sns.boxplot(x='rating', y='reviews_number', data=df)\n",
    "\n",
    "plt.title('Количество отзыво по рейтингу\\n', fontsize=15)\n",
    "plt.xlabel('Рейтинг')\n",
    "plt.ylabel('кол-во отзывов')"
   ]
  },
  {
   "cell_type": "code",
   "execution_count": 191,
   "metadata": {},
   "outputs": [
    {
     "data": {
      "text/plain": [
       "count    46800.000000\n",
       "mean       124.471197\n",
       "std        294.114345\n",
       "min          2.000000\n",
       "25%          9.000000\n",
       "50%         33.000000\n",
       "75%        115.000000\n",
       "max       9660.000000\n",
       "Name: reviews_number, dtype: float64"
      ]
     },
     "metadata": {},
     "output_type": "display_data"
    },
    {
     "data": {
      "text/plain": [
       "<AxesSubplot:>"
      ]
     },
     "execution_count": 191,
     "metadata": {},
     "output_type": "execute_result"
    },
    {
     "data": {
      "image/png": "[encoded data removed]",
      "text/plain": [
       "<Figure size 432x288 with 1 Axes>"
      ]
     },
     "metadata": {
      "needs_background": "light"
     },
     "output_type": "display_data"
    }
   ],
   "source": [
    "display(df.reviews_number.describe())\n",
    "df.reviews_number.hist()"
   ]
  },
  {
   "cell_type": "code",
   "execution_count": 192,
   "metadata": {},
   "outputs": [
    {
     "name": "stdout",
     "output_type": "stream",
     "text": [
      "25-й перцентиль: 9.0, 75-й перцентиль: 115.0, IQR: 106.0,  Границы выбросов: [-150.0, 274.0].\n"
     ]
    },
    {
     "data": {
      "text/plain": [
       "<AxesSubplot:>"
      ]
     },
     "execution_count": 192,
     "metadata": {},
     "output_type": "execute_result"
    },
    {
     "data": {
      "image/png": "[encoded data removed]",
      "text/plain": [
       "<Figure size 432x288 with 1 Axes>"
      ]
     },
     "metadata": {
      "needs_background": "light"
     },
     "output_type": "display_data"
    }
   ],
   "source": [
    "params = med_iqr(df.reviews_number)\n",
    "\n",
    "df.loc[df.reviews_number.between(params['perc25'] - 1.5*params['iqr'], params['perc75']\n",
    "                                 + 1.5*params['iqr'])]['reviews_number'].hist(bins=20)"
   ]
  },
  {
   "cell_type": "code",
   "execution_count": 193,
   "metadata": {},
   "outputs": [
    {
     "data": {
      "text/plain": [
       "<seaborn.axisgrid.FacetGrid at 0x2cbca13c970>"
      ]
     },
     "execution_count": 193,
     "metadata": {},
     "output_type": "execute_result"
    },
    {
     "data": {
      "image/png": "[encoded data removed]",
      "text/plain": [
       "<Figure size 720x720 with 1 Axes>"
      ]
     },
     "metadata": {
      "needs_background": "light"
     },
     "output_type": "display_data"
    }
   ],
   "source": [
    "df.loc[((df.reviews_number < (params['perc25'] - 1.5*params['iqr']))\n",
    "        | (df.reviews_number > (params['perc75'] + 1.5*params['iqr']))), 'reviews_number'] = None\n",
    "sns.catplot(x=\"rating\", y=\"reviews_number\", kind=\"box\", data=df, height=10)"
   ]
  },
  {
   "cell_type": "markdown",
   "metadata": {},
   "source": [
    "Анализ данной переменной не дал явных результатов, но количестов отзывов явно будет влиять на оценку.  \n",
    "Дальненйшие измененея будут проводится своместно с переменной \"Отзывы\"."
   ]
  },
  {
   "cell_type": "markdown",
   "metadata": {
    "papermill": {
     "duration": 0.136424,
     "end_time": "2021-01-19T06:54:24.748759",
     "exception": false,
     "start_time": "2021-01-19T06:54:24.612335",
     "status": "completed"
    },
    "tags": []
   },
   "source": [
    "### 2.8 Отзывы"
   ]
  },
  {
   "cell_type": "markdown",
   "metadata": {
    "papermill": {
     "duration": 0.136079,
     "end_time": "2021-01-19T06:54:25.021800",
     "exception": false,
     "start_time": "2021-01-19T06:54:24.885721",
     "status": "completed"
    },
    "tags": []
   },
   "source": [
    "Проведём дополнительный анализ данного столбца, так-как он будет одназначно влиять на рейтинг"
   ]
  },
  {
   "cell_type": "code",
   "execution_count": 194,
   "metadata": {
    "execution": {
     "iopub.execute_input": "2021-01-19T06:54:25.570334Z",
     "iopub.status.busy": "2021-01-19T06:54:25.569436Z",
     "iopub.status.idle": "2021-01-19T06:54:25.572315Z",
     "shell.execute_reply": "2021-01-19T06:54:25.572740Z"
    },
    "papermill": {
     "duration": 0.143909,
     "end_time": "2021-01-19T06:54:25.572850",
     "exception": false,
     "start_time": "2021-01-19T06:54:25.428941",
     "status": "completed"
    },
    "tags": []
   },
   "outputs": [
    {
     "name": "stdout",
     "output_type": "stream",
     "text": [
      "[['Very nice food and staff', 'Lovely service and staff!'], ['01/01/2017', '11/12/2016']]\n"
     ]
    }
   ],
   "source": [
    "print(df['reviews'][15])"
   ]
  },
  {
   "cell_type": "markdown",
   "metadata": {
    "papermill": {
     "duration": 0.135757,
     "end_time": "2021-01-19T06:54:25.845425",
     "exception": false,
     "start_time": "2021-01-19T06:54:25.709668",
     "status": "completed"
    },
    "tags": []
   },
   "source": [
    "Имеются пустые значения - [ [ ],[ ] ].\n",
    "\n",
    "Необходимо разделить значения объединнённые в один столбец в датасете, на 4 незавиимых.\n",
    "Дата первого и последнего отзыва (так-же можно вывести количестов дней между ними)\n",
    "Первый и последний отзыв.\n"
   ]
  },
  {
   "cell_type": "code",
   "execution_count": null,
   "metadata": {
    "execution": {
     "iopub.execute_input": "2021-01-19T06:54:26.407008Z",
     "iopub.status.busy": "2021-01-19T06:54:26.406476Z",
     "iopub.status.idle": "2021-01-19T06:57:11.842127Z",
     "shell.execute_reply": "2021-01-19T06:57:11.842679Z"
    },
    "papermill": {
     "duration": 165.574413,
     "end_time": "2021-01-19T06:57:11.842811",
     "exception": false,
     "start_time": "2021-01-19T06:54:26.268398",
     "status": "completed"
    },
    "tags": []
   },
   "outputs": [],
   "source": [
    "lrx = re.compile('\\[\\[.*\\]\\]')  # шаблон для поиска\n",
    "nan = None\n",
    "df = df.apply(review_extraction, axis=1)\n",
    "df.sample(3)"
   ]
  },
  {
   "cell_type": "markdown",
   "metadata": {
    "papermill": {
     "duration": 0.139241,
     "end_time": "2021-01-19T06:57:12.121218",
     "exception": false,
     "start_time": "2021-01-19T06:57:11.981977",
     "status": "completed"
    },
    "tags": []
   },
   "source": [
    "Создадим столбец с разницей во времени между первым и последним обзорами"
   ]
  },
  {
   "cell_type": "code",
   "execution_count": null,
   "metadata": {
    "execution": {
     "iopub.execute_input": "2021-01-19T06:57:12.683062Z",
     "iopub.status.busy": "2021-01-19T06:57:12.682534Z",
     "iopub.status.idle": "2021-01-19T06:57:13.298194Z",
     "shell.execute_reply": "2021-01-19T06:57:13.297448Z"
    },
    "papermill": {
     "duration": 0.757977,
     "end_time": "2021-01-19T06:57:13.298327",
     "exception": false,
     "start_time": "2021-01-19T06:57:12.540350",
     "status": "completed"
    },
    "scrolled": true,
    "tags": []
   },
   "outputs": [],
   "source": [
    "df['diff_rev'] = df['last_date'] - df['first_date']\n",
    "df['diff_rev'] = df['diff_rev'].apply(get_days)\n",
    "df.sample(3)"
   ]
  },
  {
   "cell_type": "markdown",
   "metadata": {},
   "source": [
    "Поверим результат"
   ]
  },
  {
   "cell_type": "code",
   "execution_count": null,
   "metadata": {
    "execution": {
     "iopub.execute_input": "2021-01-19T06:57:13.581708Z",
     "iopub.status.busy": "2021-01-19T06:57:13.581170Z",
     "iopub.status.idle": "2021-01-19T06:57:13.690962Z",
     "shell.execute_reply": "2021-01-19T06:57:13.691488Z"
    },
    "papermill": {
     "duration": 0.253121,
     "end_time": "2021-01-19T06:57:13.691609",
     "exception": false,
     "start_time": "2021-01-19T06:57:13.438488",
     "status": "completed"
    },
    "tags": []
   },
   "outputs": [],
   "source": [
    "sns.boxplot(x=df.diff_rev.values)"
   ]
  },
  {
   "cell_type": "markdown",
   "metadata": {
    "papermill": {
     "duration": 0.14059,
     "end_time": "2021-01-19T06:57:13.973187",
     "exception": false,
     "start_time": "2021-01-19T06:57:13.832597",
     "status": "completed"
    },
    "tags": []
   },
   "source": [
    "Некоторые даты не относятся к первому комментарию, потому мы имеем отрицательные значения. Исправим эти значения."
   ]
  },
  {
   "cell_type": "code",
   "execution_count": null,
   "metadata": {
    "execution": {
     "iopub.execute_input": "2021-01-19T06:57:14.272262Z",
     "iopub.status.busy": "2021-01-19T06:57:14.271671Z",
     "iopub.status.idle": "2021-01-19T06:57:14.292972Z",
     "shell.execute_reply": "2021-01-19T06:57:14.293699Z"
    },
    "papermill": {
     "duration": 0.180256,
     "end_time": "2021-01-19T06:57:14.293899",
     "exception": false,
     "start_time": "2021-01-19T06:57:14.113643",
     "status": "completed"
    },
    "tags": []
   },
   "outputs": [],
   "source": [
    "df['diff_rev'] = df['diff_rev'].apply(lambda x: abs(x))"
   ]
  },
  {
   "cell_type": "code",
   "execution_count": null,
   "metadata": {},
   "outputs": [],
   "source": [
    "sns.boxplot(df.diff_rev.values)"
   ]
  },
  {
   "cell_type": "markdown",
   "metadata": {
    "papermill": {
     "duration": 0.142018,
     "end_time": "2021-01-19T06:57:14.605870",
     "exception": false,
     "start_time": "2021-01-19T06:57:14.463852",
     "status": "completed"
    },
    "tags": []
   },
   "source": [
    "Рейтинг ресторана может зависеть не только от того, сколько времени прошло между двумя последними отзывами, но и от того, сколько дней прошло с момента публикации последнего отзыва до текущей даты.\n",
    "Создадим соответствующий столбец"
   ]
  },
  {
   "cell_type": "code",
   "execution_count": null,
   "metadata": {
    "execution": {
     "iopub.execute_input": "2021-01-19T06:57:15.260901Z",
     "iopub.status.busy": "2021-01-19T06:57:15.260383Z",
     "iopub.status.idle": "2021-01-19T06:57:16.772255Z",
     "shell.execute_reply": "2021-01-19T06:57:16.771747Z"
    },
    "papermill": {
     "duration": 1.668758,
     "end_time": "2021-01-19T06:57:16.772357",
     "exception": false,
     "start_time": "2021-01-19T06:57:15.103599",
     "status": "completed"
    },
    "tags": []
   },
   "outputs": [],
   "source": [
    "df['days_from_last_rev'] = df['last_date'].apply(\n",
    "    lambda date: CURRENT_DATE - date)\n",
    "df['days_from_last_rev'] = df['days_from_last_rev'].apply(get_days)"
   ]
  },
  {
   "cell_type": "code",
   "execution_count": null,
   "metadata": {
    "execution": {
     "iopub.execute_input": "2021-01-19T06:57:17.062636Z",
     "iopub.status.busy": "2021-01-19T06:57:17.061778Z",
     "iopub.status.idle": "2021-01-19T06:57:17.082419Z",
     "shell.execute_reply": "2021-01-19T06:57:17.081891Z"
    },
    "papermill": {
     "duration": 0.16848,
     "end_time": "2021-01-19T06:57:17.082511",
     "exception": false,
     "start_time": "2021-01-19T06:57:16.914031",
     "status": "completed"
    },
    "scrolled": true,
    "tags": []
   },
   "outputs": [],
   "source": [
    "df.sample(3)"
   ]
  },
  {
   "cell_type": "markdown",
   "metadata": {},
   "source": [
    "Проверим количество пустых значений для отзывово и для их количества."
   ]
  },
  {
   "cell_type": "code",
   "execution_count": null,
   "metadata": {
    "execution": {
     "iopub.execute_input": "2021-01-19T06:57:17.384650Z",
     "iopub.status.busy": "2021-01-19T06:57:17.383723Z",
     "iopub.status.idle": "2021-01-19T06:57:17.390142Z",
     "shell.execute_reply": "2021-01-19T06:57:17.390566Z"
    },
    "papermill": {
     "duration": 0.165229,
     "end_time": "2021-01-19T06:57:17.390691",
     "exception": false,
     "start_time": "2021-01-19T06:57:17.225462",
     "status": "completed"
    },
    "tags": []
   },
   "outputs": [],
   "source": [
    "df[['first_review', 'last_review']].isnull().sum()"
   ]
  },
  {
   "cell_type": "code",
   "execution_count": null,
   "metadata": {
    "execution": {
     "iopub.execute_input": "2021-01-19T06:57:17.678133Z",
     "iopub.status.busy": "2021-01-19T06:57:17.677261Z",
     "iopub.status.idle": "2021-01-19T06:57:17.681576Z",
     "shell.execute_reply": "2021-01-19T06:57:17.681014Z"
    },
    "papermill": {
     "duration": 0.150346,
     "end_time": "2021-01-19T06:57:17.681665",
     "exception": false,
     "start_time": "2021-01-19T06:57:17.531319",
     "status": "completed"
    },
    "tags": []
   },
   "outputs": [],
   "source": [
    "df['reviews_number'].isnull().sum()"
   ]
  },
  {
   "cell_type": "markdown",
   "metadata": {
    "papermill": {
     "duration": 0.142006,
     "end_time": "2021-01-19T06:57:17.965771",
     "exception": false,
     "start_time": "2021-01-19T06:57:17.823765",
     "status": "completed"
    },
    "tags": []
   },
   "source": [
    "Подавляющее большинство отсутствующих отзывов относятся к отзывам, размещенным «первым»."
   ]
  },
  {
   "cell_type": "markdown",
   "metadata": {
    "papermill": {
     "duration": 0.141624,
     "end_time": "2021-01-19T06:57:18.248337",
     "exception": false,
     "start_time": "2021-01-19T06:57:18.106713",
     "status": "completed"
    },
    "tags": []
   },
   "source": [
    "Теперь давайте отсортируем наш набор данных и сравним отсутствующие отзывы с количеством отсутствующих отзывов."
   ]
  },
  {
   "cell_type": "code",
   "execution_count": null,
   "metadata": {
    "execution": {
     "iopub.execute_input": "2021-01-19T06:57:18.532057Z",
     "iopub.status.busy": "2021-01-19T06:57:18.531526Z",
     "iopub.status.idle": "2021-01-19T06:57:18.551641Z",
     "shell.execute_reply": "2021-01-19T06:57:18.552046Z"
    },
    "papermill": {
     "duration": 0.163163,
     "end_time": "2021-01-19T06:57:18.552182",
     "exception": false,
     "start_time": "2021-01-19T06:57:18.389019",
     "status": "completed"
    },
    "tags": []
   },
   "outputs": [],
   "source": [
    "no_rev_num = df[df['reviews_number'].isnull()]\n",
    "no_rev_num.sample(2)"
   ]
  },
  {
   "cell_type": "code",
   "execution_count": null,
   "metadata": {
    "execution": {
     "iopub.execute_input": "2021-01-19T06:57:18.838717Z",
     "iopub.status.busy": "2021-01-19T06:57:18.838190Z",
     "iopub.status.idle": "2021-01-19T06:57:18.844897Z",
     "shell.execute_reply": "2021-01-19T06:57:18.845389Z"
    },
    "papermill": {
     "duration": 0.151319,
     "end_time": "2021-01-19T06:57:18.845499",
     "exception": false,
     "start_time": "2021-01-19T06:57:18.694180",
     "status": "completed"
    },
    "tags": []
   },
   "outputs": [],
   "source": [
    "no_rev_num[['first_review', 'last_review']].isnull().sum()"
   ]
  },
  {
   "cell_type": "markdown",
   "metadata": {
    "papermill": {
     "duration": 0.142622,
     "end_time": "2021-01-19T06:57:19.130914",
     "exception": false,
     "start_time": "2021-01-19T06:57:18.988292",
     "status": "completed"
    },
    "tags": []
   },
   "source": [
    "Номер обзора не показывает явную взаимосвзяь с  количеством отзывов.В столбцах отзывов у есть хотя бы один отзыв, но он не засчитывается в количестве отзывов.\n",
    "\n",
    "Для лучшей обработки данных в 'Feature engineering' создадим два новых столбца, которые укажут нам, в каком «обзоре» отсутствуют значения. И заменим пустые значения на'No comment' для дальнейшей обработки данных"
   ]
  },
  {
   "cell_type": "code",
   "execution_count": null,
   "metadata": {
    "execution": {
     "iopub.execute_input": "2021-01-19T06:57:19.701534Z",
     "iopub.status.busy": "2021-01-19T06:57:19.700943Z",
     "iopub.status.idle": "2021-01-19T06:57:19.718566Z",
     "shell.execute_reply": "2021-01-19T06:57:19.718987Z"
    },
    "papermill": {
     "duration": 0.163199,
     "end_time": "2021-01-19T06:57:19.719101",
     "exception": false,
     "start_time": "2021-01-19T06:57:19.555902",
     "status": "completed"
    },
    "tags": []
   },
   "outputs": [],
   "source": [
    "df['first_review_miss'] = df['first_review'].isnull().astype('uint8')\n",
    "df['last_review_miss'] = df['last_review'].isnull().astype('uint8')\n",
    "df['last_review'] = df['last_review'].fillna('no comment')\n",
    "df['first_review'] = df['first_review'].fillna('no comment')\n",
    "df.sample(2)"
   ]
  },
  {
   "cell_type": "markdown",
   "metadata": {
    "papermill": {
     "duration": 0.161243,
     "end_time": "2021-01-19T06:58:04.358940",
     "exception": false,
     "start_time": "2021-01-19T06:58:04.197697",
     "status": "completed"
    },
    "tags": []
   },
   "source": [
    "### 2.9 url_ta и id_ta\n"
   ]
  },
  {
   "cell_type": "markdown",
   "metadata": {
    "papermill": {
     "duration": 0.159784,
     "end_time": "2021-01-19T06:58:04.676294",
     "exception": false,
     "start_time": "2021-01-19T06:58:04.516510",
     "status": "completed"
    },
    "tags": []
   },
   "source": [
    "Данные колонки мало информативны, потому мы оставим их для последующего преобразования.\n",
    "Единственное что сделаем это преобразуем id_ta и проверим на дубликаты.\n"
   ]
  },
  {
   "cell_type": "code",
   "execution_count": null,
   "metadata": {
    "execution": {
     "iopub.execute_input": "2021-01-19T06:58:05.321503Z",
     "iopub.status.busy": "2021-01-19T06:58:05.316382Z",
     "iopub.status.idle": "2021-01-19T06:58:05.366095Z",
     "shell.execute_reply": "2021-01-19T06:58:05.365637Z"
    },
    "papermill": {
     "duration": 0.212371,
     "end_time": "2021-01-19T06:58:05.366207",
     "exception": false,
     "start_time": "2021-01-19T06:58:05.153836",
     "status": "completed"
    },
    "tags": []
   },
   "outputs": [],
   "source": [
    "df['id_ta'] = df['id_ta'].apply(lambda x: int(x[1:]))"
   ]
  },
  {
   "cell_type": "code",
   "execution_count": null,
   "metadata": {
    "execution": {
     "iopub.execute_input": "2021-01-19T06:58:05.686553Z",
     "iopub.status.busy": "2021-01-19T06:58:05.685963Z",
     "iopub.status.idle": "2021-01-19T06:58:05.694842Z",
     "shell.execute_reply": "2021-01-19T06:58:05.694400Z"
    },
    "papermill": {
     "duration": 0.170502,
     "end_time": "2021-01-19T06:58:05.694938",
     "exception": false,
     "start_time": "2021-01-19T06:58:05.524436",
     "status": "completed"
    },
    "tags": []
   },
   "outputs": [],
   "source": [
    "df['id_ta'].value_counts()"
   ]
  },
  {
   "cell_type": "markdown",
   "metadata": {
    "papermill": {
     "duration": 0.161704,
     "end_time": "2021-01-19T06:58:06.349579",
     "exception": false,
     "start_time": "2021-01-19T06:58:06.187875",
     "status": "completed"
    },
    "tags": []
   },
   "source": [
    "# 3. Feature Engineering и дополнительная очистка данных"
   ]
  },
  {
   "cell_type": "markdown",
   "metadata": {
    "papermill": {
     "duration": 0.163017,
     "end_time": "2021-01-19T06:58:06.986168",
     "exception": false,
     "start_time": "2021-01-19T06:58:06.823151",
     "status": "completed"
    },
    "tags": []
   },
   "source": [
    "### 3.1 Идентификационный номер ресторана"
   ]
  },
  {
   "cell_type": "markdown",
   "metadata": {
    "papermill": {
     "duration": 0.15816,
     "end_time": "2021-01-19T06:58:07.301779",
     "exception": false,
     "start_time": "2021-01-19T06:58:07.143619",
     "status": "completed"
    },
    "tags": []
   },
   "source": [
    "Добавим дополнительную идентификацию сетевых ресторанов.\n",
    "Сетевым ресторанам будем присваивать переменную 1, остальным 0."
   ]
  },
  {
   "cell_type": "code",
   "execution_count": null,
   "metadata": {
    "execution": {
     "iopub.execute_input": "2021-01-19T06:58:07.640529Z",
     "iopub.status.busy": "2021-01-19T06:58:07.639970Z",
     "iopub.status.idle": "2021-01-19T06:58:07.709469Z",
     "shell.execute_reply": "2021-01-19T06:58:07.708870Z"
    },
    "papermill": {
     "duration": 0.249457,
     "end_time": "2021-01-19T06:58:07.709568",
     "exception": false,
     "start_time": "2021-01-19T06:58:07.460111",
     "status": "completed"
    },
    "tags": []
   },
   "outputs": [],
   "source": [
    "chained_rest_list = list(df['restaurant_id'].value_counts()[\n",
    "    df['restaurant_id'].value_counts() > 1].index)\n",
    "\n",
    "df['chained_rest'] = df[df['restaurant_id'].isin(\n",
    "    chained_rest_list)].restaurant_id.apply(lambda x: 1)\n",
    "df['chained_rest'] = df['chained_rest'].fillna(0)\n",
    "\n",
    "# Проверка\n",
    "df['chained_rest'].value_counts()"
   ]
  },
  {
   "cell_type": "markdown",
   "metadata": {
    "papermill": {
     "duration": 0.159185,
     "end_time": "2021-01-19T06:58:08.038448",
     "exception": false,
     "start_time": "2021-01-19T06:58:07.879263",
     "status": "completed"
    },
    "tags": []
   },
   "source": [
    "### 3.2 Город"
   ]
  },
  {
   "cell_type": "markdown",
   "metadata": {
    "papermill": {
     "duration": 0.15777,
     "end_time": "2021-01-19T06:58:08.358565",
     "exception": false,
     "start_time": "2021-01-19T06:58:08.200795",
     "status": "completed"
    },
    "tags": []
   },
   "source": [
    "Добавим столбец, который будет определять является ли город, в котором находится ресторан, столицей страны или нет."
   ]
  },
  {
   "cell_type": "code",
   "execution_count": null,
   "metadata": {
    "execution": {
     "iopub.execute_input": "2021-01-19T06:58:08.691637Z",
     "iopub.status.busy": "2021-01-19T06:58:08.690872Z",
     "iopub.status.idle": "2021-01-19T06:58:08.693658Z",
     "shell.execute_reply": "2021-01-19T06:58:08.693105Z"
    },
    "papermill": {
     "duration": 0.177207,
     "end_time": "2021-01-19T06:58:08.693752",
     "exception": false,
     "start_time": "2021-01-19T06:58:08.516545",
     "status": "completed"
    },
    "tags": []
   },
   "outputs": [],
   "source": [
    "all_cities = df['city'].value_counts().index\n",
    "all_cities"
   ]
  },
  {
   "cell_type": "markdown",
   "metadata": {},
   "source": [
    "Так как городов не очень много, создадим отдельный словарь, который будет подтверждать принадлежность города."
   ]
  },
  {
   "cell_type": "code",
   "execution_count": null,
   "metadata": {
    "execution": {
     "iopub.execute_input": "2021-01-19T06:58:09.021966Z",
     "iopub.status.busy": "2021-01-19T06:58:09.021454Z",
     "iopub.status.idle": "2021-01-19T06:58:09.026767Z",
     "shell.execute_reply": "2021-01-19T06:58:09.027211Z"
    },
    "papermill": {
     "duration": 0.169824,
     "end_time": "2021-01-19T06:58:09.027325",
     "exception": false,
     "start_time": "2021-01-19T06:58:08.857501",
     "status": "completed"
    },
    "tags": []
   },
   "outputs": [],
   "source": [
    "capital = [True, True, True, False, True, False, True,\n",
    "           True, True, True, True, True, False, False,\n",
    "           False, True, True, True, True, True, True,\n",
    "           True, False, False, False, False, True,\n",
    "           True, True, True, True]\n",
    "\n",
    "capital_dict = dict(zip(list(all_cities), capital))"
   ]
  },
  {
   "cell_type": "code",
   "execution_count": null,
   "metadata": {
    "execution": {
     "iopub.execute_input": "2021-01-19T06:58:09.354923Z",
     "iopub.status.busy": "2021-01-19T06:58:09.354363Z",
     "iopub.status.idle": "2021-01-19T06:58:09.380750Z",
     "shell.execute_reply": "2021-01-19T06:58:09.380304Z"
    },
    "papermill": {
     "duration": 0.191123,
     "end_time": "2021-01-19T06:58:09.380842",
     "exception": false,
     "start_time": "2021-01-19T06:58:09.189719",
     "status": "completed"
    },
    "tags": []
   },
   "outputs": [],
   "source": [
    "df['capital'] = df['city'].map(capital_dict)\n",
    "\n",
    "# проверяем\n",
    "df.head(2)"
   ]
  },
  {
   "cell_type": "markdown",
   "metadata": {
    "papermill": {
     "duration": 0.161413,
     "end_time": "2021-01-19T06:58:09.703328",
     "exception": false,
     "start_time": "2021-01-19T06:58:09.541915",
     "status": "completed"
    },
    "tags": []
   },
   "source": [
    "Добавим количество людей проживаюших в этих городах.\n",
    "А так-же пренадлежность города к стране.\n",
    "ЗЫ В дальнейшем можно, добавить среднее количество туристов за год."
   ]
  },
  {
   "cell_type": "code",
   "execution_count": null,
   "metadata": {
    "execution": {
     "iopub.execute_input": "2021-01-19T06:58:10.083748Z",
     "iopub.status.busy": "2021-01-19T06:58:10.083133Z",
     "iopub.status.idle": "2021-01-19T06:58:10.085648Z",
     "shell.execute_reply": "2021-01-19T06:58:10.085227Z"
    },
    "papermill": {
     "duration": 0.177108,
     "end_time": "2021-01-19T06:58:10.085739",
     "exception": false,
     "start_time": "2021-01-19T06:58:09.908631",
     "status": "completed"
    },
    "tags": []
   },
   "outputs": [],
   "source": [
    "city_population = {\n",
    "    'London': 8908081,\n",
    "    'Paris': 2148327,\n",
    "    'Madrid': 3266126,\n",
    "    'Barcelona': 1664182,\n",
    "    'Berlin': 3644826,\n",
    "    'Milan': 1378689,\n",
    "    'Rome': 2870500,\n",
    "    'Prague': 1301132,\n",
    "    'Lisbon': 505526,  #\n",
    "    'Vienna': 1900000,\n",
    "    'Amsterdam': 872080,\n",
    "    'Brussels': 144784,\n",
    "    'Hamburg': 1840000,\n",
    "    'Munich': 1558395,\n",
    "    'Lyon': 506615,\n",
    "    'Stockholm': 975904,\n",
    "    'Budapest': 1752286,\n",
    "    'Warsaw': 1720398,\n",
    "    'Dublin': 1793579,\n",
    "    'Copenhagen': 1330993,\n",
    "    'Athens': 3090508,\n",
    "    'Edinburgh': 476100,\n",
    "    'Zurich': 402275,\n",
    "    'Oporto': 237559,\n",
    "    'Geneva': 196150,\n",
    "    'Krakow': 779115,\n",
    "    'Oslo': 697549,\n",
    "    'Helsinki':  656229,\n",
    "    'Bratislava': 563682,\n",
    "    'Luxembourg': 626108,\n",
    "    'Ljubljana': 295504\n",
    "}"
   ]
  },
  {
   "cell_type": "code",
   "execution_count": null,
   "metadata": {
    "execution": {
     "iopub.execute_input": "2021-01-19T06:58:10.419713Z",
     "iopub.status.busy": "2021-01-19T06:58:10.419148Z",
     "iopub.status.idle": "2021-01-19T06:58:10.421656Z",
     "shell.execute_reply": "2021-01-19T06:58:10.422058Z"
    },
    "papermill": {
     "duration": 0.176348,
     "end_time": "2021-01-19T06:58:10.422182",
     "exception": false,
     "start_time": "2021-01-19T06:58:10.245834",
     "status": "completed"
    },
    "tags": []
   },
   "outputs": [],
   "source": [
    "city_country = {\n",
    "    'London': 'United Kingdom',\n",
    "    'Paris': 'France',\n",
    "    'Madrid': 'Spain',\n",
    "    'Barcelona': 'Spain',\n",
    "    'Berlin': 'Germany',\n",
    "    'Milan': 'Italy',\n",
    "    'Rome': 'Italy',\n",
    "    'Prague': 'Czech',\n",
    "    'Lisbon': 'Portugal',\n",
    "    'Vienna': 'Austria',\n",
    "    'Amsterdam': 'Netherlands',\n",
    "    'Brussels': 'Belgium',\n",
    "    'Hamburg': 'Germany',\n",
    "    'Munich': 'Germany',\n",
    "    'Lyon': 'France',\n",
    "    'Stockholm': 'Sweden',\n",
    "    'Budapest': 'Hungary',\n",
    "    'Warsaw': 'Poland',\n",
    "    'Dublin': 'Ireland',\n",
    "    'Copenhagen': 'Denmark',\n",
    "    'Athens': 'Greece',\n",
    "    'Edinburgh': 'Schotland',\n",
    "    'Zurich': 'Switzerland',\n",
    "    'Oporto': 'Portugal',\n",
    "    'Geneva': 'Switzerland',\n",
    "    'Krakow': 'Poland',\n",
    "    'Oslo': 'Norway',\n",
    "    'Helsinki': 'Finland',\n",
    "    'Bratislava': 'Slovakia',\n",
    "    'Luxembourg': 'Luxembourg',\n",
    "    'Ljubljana': 'Slovenija'\n",
    "}"
   ]
  },
  {
   "cell_type": "markdown",
   "metadata": {},
   "source": [
    "Добавим полученный данные в датафрейм"
   ]
  },
  {
   "cell_type": "code",
   "execution_count": null,
   "metadata": {
    "execution": {
     "iopub.execute_input": "2021-01-19T06:58:10.748296Z",
     "iopub.status.busy": "2021-01-19T06:58:10.747669Z",
     "iopub.status.idle": "2021-01-19T06:58:10.765743Z",
     "shell.execute_reply": "2021-01-19T06:58:10.766200Z"
    },
    "papermill": {
     "duration": 0.180222,
     "end_time": "2021-01-19T06:58:10.766312",
     "exception": false,
     "start_time": "2021-01-19T06:58:10.586090",
     "status": "completed"
    },
    "tags": []
   },
   "outputs": [],
   "source": [
    "df['city_population'] = df['city'].map(city_population)\n",
    "df['country'] = df['city'].map(city_country)"
   ]
  },
  {
   "cell_type": "markdown",
   "metadata": {
    "papermill": {
     "duration": 0.15999,
     "end_time": "2021-01-19T06:58:11.090071",
     "exception": false,
     "start_time": "2021-01-19T06:58:10.930081",
     "status": "completed"
    },
    "tags": []
   },
   "source": [
    "Так как в датасете представленно большое количество городом в которых назодится не очень много ресторанов, их можно присвоить дополнительное значение. Это позволит разделить города с большим колличеством ресторанов и остальными. "
   ]
  },
  {
   "cell_type": "code",
   "execution_count": null,
   "metadata": {
    "execution": {
     "iopub.execute_input": "2021-01-19T06:58:11.414357Z",
     "iopub.status.busy": "2021-01-19T06:58:11.413796Z",
     "iopub.status.idle": "2021-01-19T06:58:11.454195Z",
     "shell.execute_reply": "2021-01-19T06:58:11.453635Z"
    },
    "papermill": {
     "duration": 0.20298,
     "end_time": "2021-01-19T06:58:11.454298",
     "exception": false,
     "start_time": "2021-01-19T06:58:11.251318",
     "status": "completed"
    },
    "tags": []
   },
   "outputs": [],
   "source": [
    "df['new_city'] = df['city']\n",
    "top_cities_list = df['new_city'].value_counts()[df['new_city'].value_counts()\n",
    "                                                > np.percentile((df['new_city'].value_counts().values), 70)].index.tolist()"
   ]
  },
  {
   "cell_type": "code",
   "execution_count": null,
   "metadata": {
    "execution": {
     "iopub.execute_input": "2021-01-19T06:58:11.787515Z",
     "iopub.status.busy": "2021-01-19T06:58:11.786207Z",
     "iopub.status.idle": "2021-01-19T06:58:11.803226Z",
     "shell.execute_reply": "2021-01-19T06:58:11.802732Z"
    },
    "papermill": {
     "duration": 0.18493,
     "end_time": "2021-01-19T06:58:11.803360",
     "exception": false,
     "start_time": "2021-01-19T06:58:11.618430",
     "status": "completed"
    },
    "tags": []
   },
   "outputs": [],
   "source": [
    "cities_to_drop = list(set(all_cities)-set(top_cities_list))\n",
    "df.loc[df['new_city'].isin(cities_to_drop), 'new_city'] = 'Other'"
   ]
  },
  {
   "cell_type": "code",
   "execution_count": null,
   "metadata": {
    "execution": {
     "iopub.execute_input": "2021-01-19T06:58:12.149406Z",
     "iopub.status.busy": "2021-01-19T06:58:12.148631Z",
     "iopub.status.idle": "2021-01-19T06:58:12.333982Z",
     "shell.execute_reply": "2021-01-19T06:58:12.334530Z"
    },
    "papermill": {
     "duration": 0.367335,
     "end_time": "2021-01-19T06:58:12.334696",
     "exception": false,
     "start_time": "2021-01-19T06:58:11.967361",
     "status": "completed"
    },
    "tags": []
   },
   "outputs": [],
   "source": [
    "plt.figure(figsize=(15, 5), dpi=100)\n",
    "sns.countplot(df['new_city'], order=df['new_city'].value_counts().index)\n",
    "plt.xticks(rotation=45)\n",
    "plt.title('Распределение городов\\n', fontsize=15)\n",
    "plt.xlabel('Название города')\n",
    "plt.ylabel('Рестораны')\n",
    "\n",
    "print(f'Общее количество городов: {df.city.nunique()}')"
   ]
  },
  {
   "cell_type": "code",
   "execution_count": null,
   "metadata": {},
   "outputs": [],
   "source": [
    "df.head(10)"
   ]
  },
  {
   "cell_type": "markdown",
   "metadata": {
    "papermill": {
     "duration": 0.160838,
     "end_time": "2021-01-19T06:58:12.657941",
     "exception": false,
     "start_time": "2021-01-19T06:58:12.497103",
     "status": "completed"
    },
    "tags": []
   },
   "source": [
    "Закодируем значения городов, и добавим их в виде столбцов с названиями городов."
   ]
  },
  {
   "cell_type": "code",
   "execution_count": null,
   "metadata": {
    "execution": {
     "iopub.execute_input": "2021-01-19T06:58:13.012331Z",
     "iopub.status.busy": "2021-01-19T06:58:12.996895Z",
     "iopub.status.idle": "2021-01-19T06:58:13.026206Z",
     "shell.execute_reply": "2021-01-19T06:58:13.026637Z"
    },
    "papermill": {
     "duration": 0.205452,
     "end_time": "2021-01-19T06:58:13.026754",
     "exception": false,
     "start_time": "2021-01-19T06:58:12.821302",
     "status": "completed"
    },
    "tags": []
   },
   "outputs": [],
   "source": [
    "OH_encoder = OneHotEncoder(handle_unknown='ignore', sparse=False)\n",
    "OH_city = pd.DataFrame(OH_encoder.fit_transform(df[['new_city']]))\n",
    "OH_city.columns = OH_encoder.get_feature_names(['new_city'])\n",
    "\n",
    "# Тест\n",
    "OH_city.head(2)"
   ]
  },
  {
   "cell_type": "markdown",
   "metadata": {
    "papermill": {
     "duration": 0.162469,
     "end_time": "2021-01-19T06:58:13.354655",
     "exception": false,
     "start_time": "2021-01-19T06:58:13.192186",
     "status": "completed"
    },
    "tags": []
   },
   "source": [
    "Тоже самое проделаем со странами."
   ]
  },
  {
   "cell_type": "code",
   "execution_count": null,
   "metadata": {},
   "outputs": [],
   "source": [
    "from sklearn.preprocessing import LabelEncoder"
   ]
  },
  {
   "cell_type": "code",
   "execution_count": null,
   "metadata": {},
   "outputs": [],
   "source": [
    "le = LabelEncoder()  # create an object\n",
    "le.fit(df['country'])\n",
    "df['country_CODE'] = le.transform(df['country'])\n",
    "\n",
    "# проверка\n",
    "df.head(2)"
   ]
  },
  {
   "cell_type": "markdown",
   "metadata": {
    "papermill": {
     "duration": 0.163733,
     "end_time": "2021-01-19T06:58:14.053396",
     "exception": false,
     "start_time": "2021-01-19T06:58:13.889663",
     "status": "completed"
    },
    "tags": []
   },
   "source": [
    "### 3.3 Кухня"
   ]
  },
  {
   "cell_type": "markdown",
   "metadata": {
    "papermill": {
     "duration": 0.164431,
     "end_time": "2021-01-19T06:58:14.390108",
     "exception": false,
     "start_time": "2021-01-19T06:58:14.225677",
     "status": "completed"
    },
    "tags": []
   },
   "source": [
    "Добавим новый столбец, который считает количество кухонь представленных в ресторане."
   ]
  },
  {
   "cell_type": "code",
   "execution_count": null,
   "metadata": {
    "execution": {
     "iopub.execute_input": "2021-01-19T06:58:14.734997Z",
     "iopub.status.busy": "2021-01-19T06:58:14.734461Z",
     "iopub.status.idle": "2021-01-19T06:58:14.783321Z",
     "shell.execute_reply": "2021-01-19T06:58:14.783812Z"
    },
    "papermill": {
     "duration": 0.231241,
     "end_time": "2021-01-19T06:58:14.783955",
     "exception": false,
     "start_time": "2021-01-19T06:58:14.552714",
     "status": "completed"
    },
    "tags": []
   },
   "outputs": [],
   "source": [
    "df['cuisine_count'] = df['cuisine_style'].apply(lambda x: len(x))\n",
    "\n",
    "# проверка\n",
    "df.head(2)"
   ]
  },
  {
   "cell_type": "markdown",
   "metadata": {
    "papermill": {
     "duration": 0.167315,
     "end_time": "2021-01-19T06:58:15.117699",
     "exception": false,
     "start_time": "2021-01-19T06:58:14.950384",
     "status": "completed"
    },
    "tags": []
   },
   "source": [
    "Добавим столбец, который определяет наличие редкого вида кухни (ниже 50%), представленных в ресторане"
   ]
  },
  {
   "cell_type": "code",
   "execution_count": null,
   "metadata": {
    "execution": {
     "iopub.execute_input": "2021-01-19T06:58:15.452098Z",
     "iopub.status.busy": "2021-01-19T06:58:15.451099Z",
     "iopub.status.idle": "2021-01-19T06:58:16.091851Z",
     "shell.execute_reply": "2021-01-19T06:58:16.091380Z"
    },
    "papermill": {
     "duration": 0.809869,
     "end_time": "2021-01-19T06:58:16.091955",
     "exception": false,
     "start_time": "2021-01-19T06:58:15.282086",
     "status": "completed"
    },
    "tags": []
   },
   "outputs": [],
   "source": [
    "cuisine_rare_lst = df.explode('cuisine_style')['cuisine_style'].value_counts()[\n",
    "    df.explode('cuisine_style')['cuisine_style'].value_counts() < 50].index.tolist()"
   ]
  },
  {
   "cell_type": "code",
   "execution_count": null,
   "metadata": {
    "execution": {
     "iopub.execute_input": "2021-01-19T06:58:16.758904Z",
     "iopub.status.busy": "2021-01-19T06:58:16.758352Z",
     "iopub.status.idle": "2021-01-19T06:58:16.929325Z",
     "shell.execute_reply": "2021-01-19T06:58:16.929720Z"
    },
    "papermill": {
     "duration": 0.337292,
     "end_time": "2021-01-19T06:58:16.929844",
     "exception": false,
     "start_time": "2021-01-19T06:58:16.592552",
     "status": "completed"
    },
    "tags": []
   },
   "outputs": [],
   "source": [
    "df['rare_cuisine'] = df['cuisine_style'].apply(get_cuisine_rare)\n",
    "# проверка\n",
    "df.head(2)"
   ]
  },
  {
   "cell_type": "markdown",
   "metadata": {
    "papermill": {
     "duration": 0.165831,
     "end_time": "2021-01-19T06:58:17.261954",
     "exception": false,
     "start_time": "2021-01-19T06:58:17.096123",
     "status": "completed"
    },
    "tags": []
   },
   "source": [
    "Оценим влияние принадлежность кухни к региону, откуда она родом?"
   ]
  },
  {
   "cell_type": "code",
   "execution_count": null,
   "metadata": {
    "execution": {
     "iopub.execute_input": "2021-01-19T06:58:17.595821Z",
     "iopub.status.busy": "2021-01-19T06:58:17.595221Z",
     "iopub.status.idle": "2021-01-19T06:58:17.602229Z",
     "shell.execute_reply": "2021-01-19T06:58:17.602658Z"
    },
    "papermill": {
     "duration": 0.174405,
     "end_time": "2021-01-19T06:58:17.602781",
     "exception": false,
     "start_time": "2021-01-19T06:58:17.428376",
     "status": "completed"
    },
    "tags": []
   },
   "outputs": [],
   "source": [
    "cuisine_region = {\n",
    "    'France': ['French', 'Central European'],\n",
    "    'Sweden': ['Swedish', 'Scandinavian'],\n",
    "    'United Kingdom': ['British'],\n",
    "    'Germany': ['German', 'Central European'],\n",
    "    'Italy': ['Pizza', 'Italian'],\n",
    "    'Slovakia': ['Eastern European'],\n",
    "    'Austria': ['Austrian'],\n",
    "    'Spain': ['Spanish'],\n",
    "    'Ireland': ['Irish'],\n",
    "    'Belgium': ['Belgian'],\n",
    "    'Switzerland': ['Swiss'],\n",
    "    'Poland': ['Polish', 'Ukrainian'],\n",
    "    'Hungary': ['Hungarian'],\n",
    "    'Denmark': ['Scandinavian'],\n",
    "    'Netherlands': ['Dutch'],\n",
    "    'Portugal': ['Portuguese'],\n",
    "    'Czech': ['Czech'],\n",
    "    'Norway': ['Norwegian', 'Scandinavian'],\n",
    "    'Finland': ['Central European'],\n",
    "    'Schotland': ['Scottish'],\n",
    "    'Slovenija': ['Slovenian'],\n",
    "    'Greece': ['Greek'],\n",
    "    'Luxembourg': ['Central European']\n",
    "}"
   ]
  },
  {
   "cell_type": "markdown",
   "metadata": {},
   "source": [
    "Cоздадим столбец с идентификатором, местная ли кухня и посчитаем их."
   ]
  },
  {
   "cell_type": "code",
   "execution_count": null,
   "metadata": {
    "execution": {
     "iopub.execute_input": "2021-01-19T06:58:18.343781Z",
     "iopub.status.busy": "2021-01-19T06:58:18.343238Z",
     "iopub.status.idle": "2021-01-19T06:58:19.732413Z",
     "shell.execute_reply": "2021-01-19T06:58:19.731855Z"
    },
    "papermill": {
     "duration": 1.58361,
     "end_time": "2021-01-19T06:58:19.732519",
     "exception": false,
     "start_time": "2021-01-19T06:58:18.148909",
     "status": "completed"
    },
    "tags": []
   },
   "outputs": [],
   "source": [
    "df['local_cuisine'] = df.apply(get_local_cuisine, axis=1)\n",
    "df['local_cuisine'].value_counts()"
   ]
  },
  {
   "cell_type": "markdown",
   "metadata": {
    "papermill": {
     "duration": 0.168111,
     "end_time": "2021-01-19T06:58:20.068043",
     "exception": false,
     "start_time": "2021-01-19T06:58:19.899932",
     "status": "completed"
    },
    "tags": []
   },
   "source": [
    "В нашем наборе данных есть 16751 кухня, принадлежащая стране происхождения."
   ]
  },
  {
   "cell_type": "code",
   "execution_count": null,
   "metadata": {
    "execution": {
     "iopub.execute_input": "2021-01-19T06:58:20.755649Z",
     "iopub.status.busy": "2021-01-19T06:58:20.755109Z",
     "iopub.status.idle": "2021-01-19T06:58:20.756885Z",
     "shell.execute_reply": "2021-01-19T06:58:20.757350Z"
    },
    "papermill": {
     "duration": 0.172796,
     "end_time": "2021-01-19T06:58:20.757466",
     "exception": false,
     "start_time": "2021-01-19T06:58:20.584670",
     "status": "completed"
    },
    "tags": []
   },
   "outputs": [],
   "source": []
  },
  {
   "cell_type": "markdown",
   "metadata": {
    "papermill": {
     "duration": 0.186742,
     "end_time": "2021-01-19T06:58:20.419556",
     "exception": false,
     "start_time": "2021-01-19T06:58:20.232814",
     "status": "completed"
    },
    "tags": []
   },
   "source": [
    "Первичный анализ показал большое количество отзывов на вегенскую или полезную еды.  \n",
    "Добавим столбец который указывает есть в ресторане подобная еда. "
   ]
  },
  {
   "cell_type": "code",
   "execution_count": null,
   "metadata": {
    "execution": {
     "iopub.execute_input": "2021-01-19T06:58:21.095574Z",
     "iopub.status.busy": "2021-01-19T06:58:21.094150Z",
     "iopub.status.idle": "2021-01-19T06:58:22.680875Z",
     "shell.execute_reply": "2021-01-19T06:58:22.681596Z"
    },
    "papermill": {
     "duration": 1.758248,
     "end_time": "2021-01-19T06:58:22.681734",
     "exception": false,
     "start_time": "2021-01-19T06:58:20.923486",
     "status": "completed"
    },
    "tags": []
   },
   "outputs": [],
   "source": [
    "df['vegan_free'] = df.apply(get_vegan, axis=1)\n",
    "# Тест\n",
    "df.sample(2)"
   ]
  },
  {
   "cell_type": "markdown",
   "metadata": {
    "papermill": {
     "duration": 0.169102,
     "end_time": "2021-01-19T06:58:23.018487",
     "exception": false,
     "start_time": "2021-01-19T06:58:22.849385",
     "status": "completed"
    },
    "tags": []
   },
   "source": [
    "### 3.4 Ранг ресторана"
   ]
  },
  {
   "cell_type": "markdown",
   "metadata": {
    "papermill": {
     "duration": 0.166255,
     "end_time": "2021-01-19T06:58:23.351518",
     "exception": false,
     "start_time": "2021-01-19T06:58:23.185263",
     "status": "completed"
    },
    "tags": []
   },
   "source": [
    "Опираясь на провёденный анализ, создадим столбец с эквивалентным ранжированием."
   ]
  },
  {
   "cell_type": "markdown",
   "metadata": {
    "papermill": {
     "duration": 0.165095,
     "end_time": "2021-01-19T06:58:23.708879",
     "exception": false,
     "start_time": "2021-01-19T06:58:23.543784",
     "status": "completed"
    },
    "tags": []
   },
   "source": [
    "Создадим столбец с общим количеством ресторанов в одном городе."
   ]
  },
  {
   "cell_type": "code",
   "execution_count": null,
   "metadata": {
    "execution": {
     "iopub.execute_input": "2021-01-19T06:58:24.063820Z",
     "iopub.status.busy": "2021-01-19T06:58:24.063002Z",
     "iopub.status.idle": "2021-01-19T06:58:24.066350Z",
     "shell.execute_reply": "2021-01-19T06:58:24.066725Z"
    },
    "papermill": {
     "duration": 0.192441,
     "end_time": "2021-01-19T06:58:24.066841",
     "exception": false,
     "start_time": "2021-01-19T06:58:23.874400",
     "status": "completed"
    },
    "tags": []
   },
   "outputs": [],
   "source": [
    "city_restaurant = dict(df['city'].value_counts())\n",
    "df['restaurant_qty'] = df['city'].map(city_restaurant)"
   ]
  },
  {
   "cell_type": "markdown",
   "metadata": {
    "papermill": {
     "duration": 0.168552,
     "end_time": "2021-01-19T06:58:24.400609",
     "exception": false,
     "start_time": "2021-01-19T06:58:24.232057",
     "status": "completed"
    },
    "tags": []
   },
   "source": [
    "Создадим эквивалентный рейтинг, разделив рейтинг в наборе данных на количеству ресторанов в городе"
   ]
  },
  {
   "cell_type": "code",
   "execution_count": null,
   "metadata": {
    "execution": {
     "iopub.execute_input": "2021-01-19T06:58:24.735340Z",
     "iopub.status.busy": "2021-01-19T06:58:24.734597Z",
     "iopub.status.idle": "2021-01-19T06:58:24.738080Z",
     "shell.execute_reply": "2021-01-19T06:58:24.737563Z"
    },
    "papermill": {
     "duration": 0.172956,
     "end_time": "2021-01-19T06:58:24.738184",
     "exception": false,
     "start_time": "2021-01-19T06:58:24.565228",
     "status": "completed"
    },
    "tags": []
   },
   "outputs": [],
   "source": [
    "df['equiv_ranking'] = df['ranking']/df['restaurant_qty']"
   ]
  },
  {
   "cell_type": "markdown",
   "metadata": {
    "papermill": {
     "duration": 0.166332,
     "end_time": "2021-01-19T06:58:25.075823",
     "exception": false,
     "start_time": "2021-01-19T06:58:24.909491",
     "status": "completed"
    },
    "tags": []
   },
   "source": [
    "Проверим распределение эквивалентный рейтинг"
   ]
  },
  {
   "cell_type": "code",
   "execution_count": null,
   "metadata": {
    "execution": {
     "iopub.execute_input": "2021-01-19T06:58:25.432022Z",
     "iopub.status.busy": "2021-01-19T06:58:25.431186Z",
     "iopub.status.idle": "2021-01-19T06:58:26.033246Z",
     "shell.execute_reply": "2021-01-19T06:58:26.032772Z"
    },
    "papermill": {
     "duration": 0.792865,
     "end_time": "2021-01-19T06:58:26.033353",
     "exception": false,
     "start_time": "2021-01-19T06:58:25.240488",
     "status": "completed"
    },
    "tags": []
   },
   "outputs": [],
   "source": [
    "plt.figure(figsize=(15, 7))\n",
    "\n",
    "for city in (df['city'].value_counts())[0:10].index:\n",
    "    sns.distplot(df['equiv_ranking'][df['city'] == city],\n",
    "                 kde=False, label=city)\n",
    "\n",
    "plt.legend(prop={'size': 10})\n",
    "plt.title('Equivalent ranking Distribution among cities\\n', fontsize=15)\n",
    "plt.xlabel('Equivalent ranking')\n",
    "plt.ylabel('Quantity (frequency)')"
   ]
  },
  {
   "cell_type": "markdown",
   "metadata": {
    "papermill": {
     "duration": 0.167847,
     "end_time": "2021-01-19T06:58:26.704816",
     "exception": false,
     "start_time": "2021-01-19T06:58:26.536969",
     "status": "completed"
    },
    "tags": []
   },
   "source": [
    "Создим столбец со средним количеством поситителей для одного ресторана в городе."
   ]
  },
  {
   "cell_type": "code",
   "execution_count": null,
   "metadata": {
    "execution": {
     "iopub.execute_input": "2021-01-19T06:58:27.046336Z",
     "iopub.status.busy": "2021-01-19T06:58:27.045751Z",
     "iopub.status.idle": "2021-01-19T06:58:27.071114Z",
     "shell.execute_reply": "2021-01-19T06:58:27.070582Z"
    },
    "papermill": {
     "duration": 0.199104,
     "end_time": "2021-01-19T06:58:27.071226",
     "exception": false,
     "start_time": "2021-01-19T06:58:26.872122",
     "status": "completed"
    },
    "tags": []
   },
   "outputs": [],
   "source": [
    "df['people_per_restaur'] = df['city_population']/df['restaurant_qty']\n",
    "df.head(2)"
   ]
  },
  {
   "cell_type": "markdown",
   "metadata": {
    "papermill": {
     "duration": 0.167219,
     "end_time": "2021-01-19T06:58:27.407455",
     "exception": false,
     "start_time": "2021-01-19T06:58:27.240236",
     "status": "completed"
    },
    "tags": []
   },
   "source": [
    "Создадим столбец с эквивалентом рейтинга отзывов на количество отзывов."
   ]
  },
  {
   "cell_type": "code",
   "execution_count": null,
   "metadata": {
    "execution": {
     "iopub.execute_input": "2021-01-19T06:58:27.755091Z",
     "iopub.status.busy": "2021-01-19T06:58:27.754586Z",
     "iopub.status.idle": "2021-01-19T07:02:35.471061Z",
     "shell.execute_reply": "2021-01-19T07:02:35.471504Z"
    },
    "papermill": {
     "duration": 247.896301,
     "end_time": "2021-01-19T07:02:35.471650",
     "exception": false,
     "start_time": "2021-01-19T06:58:27.575349",
     "status": "completed"
    },
    "tags": []
   },
   "outputs": [],
   "source": [
    "df['reviews_in_city'] = df['city'].apply(lambda x: df.groupby(\n",
    "    ['city'])['reviews_number'].sum().sort_values(ascending=False)[x])"
   ]
  },
  {
   "cell_type": "code",
   "execution_count": null,
   "metadata": {
    "execution": {
     "iopub.execute_input": "2021-01-19T07:02:35.813860Z",
     "iopub.status.busy": "2021-01-19T07:02:35.812994Z",
     "iopub.status.idle": "2021-01-19T07:02:35.845059Z",
     "shell.execute_reply": "2021-01-19T07:02:35.845546Z"
    },
    "papermill": {
     "duration": 0.203221,
     "end_time": "2021-01-19T07:02:35.845662",
     "exception": false,
     "start_time": "2021-01-19T07:02:35.642441",
     "status": "completed"
    },
    "tags": []
   },
   "outputs": [],
   "source": [
    "df['equivalent_rank_reviews'] = df['ranking'] / df['reviews_in_city']\n",
    "\n",
    "# Тест\n",
    "df.sample(2)"
   ]
  },
  {
   "cell_type": "markdown",
   "metadata": {
    "papermill": {
     "duration": 0.169318,
     "end_time": "2021-01-19T07:02:36.184460",
     "exception": false,
     "start_time": "2021-01-19T07:02:36.015142",
     "status": "completed"
    },
    "tags": []
   },
   "source": [
    "### 3.5 Цены в ресторане"
   ]
  },
  {
   "cell_type": "markdown",
   "metadata": {},
   "source": [
    "Создадим столбец со средней ценовой категорией ресторанов в городе"
   ]
  },
  {
   "cell_type": "code",
   "execution_count": null,
   "metadata": {},
   "outputs": [],
   "source": [
    "price_in_city_dict = df.groupby('city')['price_range'].mean().to_dict()\n",
    "df['price_in_city'] = df['city'].map(price_in_city_dict)"
   ]
  },
  {
   "cell_type": "code",
   "execution_count": null,
   "metadata": {},
   "outputs": [],
   "source": [
    "df['price_in_city'].value_counts()"
   ]
  },
  {
   "cell_type": "code",
   "execution_count": null,
   "metadata": {},
   "outputs": [],
   "source": [
    "df.sample(2)"
   ]
  },
  {
   "cell_type": "markdown",
   "metadata": {
    "papermill": {
     "duration": 0.169965,
     "end_time": "2021-01-19T07:02:37.615390",
     "exception": false,
     "start_time": "2021-01-19T07:02:37.445425",
     "status": "completed"
    },
    "tags": []
   },
   "source": [
    "## 3.6 Отзывы\n",
    "\n",
    "### 3.6.1 Количество отзывов"
   ]
  },
  {
   "cell_type": "markdown",
   "metadata": {
    "papermill": {
     "duration": 0.171435,
     "end_time": "2021-01-19T07:02:37.962405",
     "exception": false,
     "start_time": "2021-01-19T07:02:37.790970",
     "status": "completed"
    },
    "tags": []
   },
   "source": [
    "Для начала заполним пропущенные значения. При анализе столбца с отзывами выяснилось, что некоторые отзывы не засчитались, можно предположить, что это своего рода ошибка.\n",
    "Заполним пустые значения: если есть хотя-бы один отзыв, то заполняем значением - 1, в противном случаем - 0."
   ]
  },
  {
   "cell_type": "code",
   "execution_count": null,
   "metadata": {
    "execution": {
     "iopub.execute_input": "2021-01-19T07:02:38.305264Z",
     "iopub.status.busy": "2021-01-19T07:02:38.304719Z",
     "iopub.status.idle": "2021-01-19T07:02:39.901630Z",
     "shell.execute_reply": "2021-01-19T07:02:39.902097Z"
    },
    "papermill": {
     "duration": 1.769223,
     "end_time": "2021-01-19T07:02:39.902244",
     "exception": false,
     "start_time": "2021-01-19T07:02:38.133021",
     "status": "completed"
    },
    "tags": []
   },
   "outputs": [],
   "source": [
    "df['reviews_number'] = df.apply(lambda row: 1 if np.isnan(row['reviews_number']) and (\n",
    "    row['last_review_miss'] == 0 or row['first_review_miss'] == 0) else row['reviews_number'], axis=1)"
   ]
  },
  {
   "cell_type": "markdown",
   "metadata": {},
   "source": [
    "Пустые значения заполнены, проверим сколько осталось пустых значений и заполним их 0"
   ]
  },
  {
   "cell_type": "code",
   "execution_count": null,
   "metadata": {
    "execution": {
     "iopub.execute_input": "2021-01-19T07:02:40.249652Z",
     "iopub.status.busy": "2021-01-19T07:02:40.249119Z",
     "iopub.status.idle": "2021-01-19T07:02:40.253963Z",
     "shell.execute_reply": "2021-01-19T07:02:40.254412Z"
    },
    "papermill": {
     "duration": 0.17927,
     "end_time": "2021-01-19T07:02:40.254522",
     "exception": false,
     "start_time": "2021-01-19T07:02:40.075252",
     "status": "completed"
    },
    "tags": []
   },
   "outputs": [],
   "source": [
    "np.isnan(df['reviews_number']).sum()"
   ]
  },
  {
   "cell_type": "code",
   "execution_count": null,
   "metadata": {
    "execution": {
     "iopub.execute_input": "2021-01-19T07:02:40.943250Z",
     "iopub.status.busy": "2021-01-19T07:02:40.942703Z",
     "iopub.status.idle": "2021-01-19T07:02:40.947259Z",
     "shell.execute_reply": "2021-01-19T07:02:40.947676Z"
    },
    "papermill": {
     "duration": 0.181413,
     "end_time": "2021-01-19T07:02:40.947795",
     "exception": false,
     "start_time": "2021-01-19T07:02:40.766382",
     "status": "completed"
    },
    "tags": []
   },
   "outputs": [],
   "source": [
    "df['reviews_number'] = df['reviews_number'].fillna(0)"
   ]
  },
  {
   "cell_type": "markdown",
   "metadata": {
    "papermill": {
     "duration": 0.171259,
     "end_time": "2021-01-19T07:02:41.290852",
     "exception": false,
     "start_time": "2021-01-19T07:02:41.119593",
     "status": "completed"
    },
    "tags": []
   },
   "source": [
    "### 3.6.2 Количество дней между отзывами"
   ]
  },
  {
   "cell_type": "markdown",
   "metadata": {},
   "source": [
    "Для более подробного анализу уже был создан столбец с количеством дней между отзывами, заполним пустые значения нулями."
   ]
  },
  {
   "cell_type": "code",
   "execution_count": null,
   "metadata": {
    "execution": {
     "iopub.execute_input": "2021-01-19T07:02:41.976083Z",
     "iopub.status.busy": "2021-01-19T07:02:41.975576Z",
     "iopub.status.idle": "2021-01-19T07:02:41.984605Z",
     "shell.execute_reply": "2021-01-19T07:02:41.985073Z"
    },
    "papermill": {
     "duration": 0.183246,
     "end_time": "2021-01-19T07:02:41.985212",
     "exception": false,
     "start_time": "2021-01-19T07:02:41.801966",
     "status": "completed"
    },
    "tags": []
   },
   "outputs": [],
   "source": [
    "df['diff_rev'] = df['diff_rev'].fillna(0)\n",
    "df['days_from_last_rev'] = df['days_from_last_rev'].fillna(0)"
   ]
  },
  {
   "cell_type": "markdown",
   "metadata": {},
   "source": [
    "### 3.7 Итог"
   ]
  },
  {
   "cell_type": "code",
   "execution_count": null,
   "metadata": {},
   "outputs": [],
   "source": [
    "correlation = df.corr()\n",
    "display(correlation)\n",
    "plt.subplots(figsize=(15, 10))\n",
    "sns.heatmap(correlation, annot=True, cmap='coolwarm')"
   ]
  },
  {
   "cell_type": "markdown",
   "metadata": {
    "papermill": {
     "duration": 0.172512,
     "end_time": "2021-01-19T07:02:43.395967",
     "exception": false,
     "start_time": "2021-01-19T07:02:43.223455",
     "status": "completed"
    },
    "tags": []
   },
   "source": [
    "# 4. Подготовим данные для загрузки в модель"
   ]
  },
  {
   "cell_type": "markdown",
   "metadata": {
    "papermill": {
     "duration": 0.169648,
     "end_time": "2021-01-19T07:02:43.736020",
     "exception": false,
     "start_time": "2021-01-19T07:02:43.566372",
     "status": "completed"
    },
    "tags": []
   },
   "source": [
    "1 Уберём нечисловые столбцы."
   ]
  },
  {
   "cell_type": "code",
   "execution_count": null,
   "metadata": {
    "execution": {
     "iopub.execute_input": "2021-01-19T07:02:44.084469Z",
     "iopub.status.busy": "2021-01-19T07:02:44.083927Z",
     "iopub.status.idle": "2021-01-19T07:02:44.086102Z",
     "shell.execute_reply": "2021-01-19T07:02:44.086640Z"
    },
    "papermill": {
     "duration": 0.178068,
     "end_time": "2021-01-19T07:02:44.086752",
     "exception": false,
     "start_time": "2021-01-19T07:02:43.908684",
     "status": "completed"
    },
    "tags": []
   },
   "outputs": [],
   "source": [
    "cols_to_drop = ['restaurant_id', 'city', 'new_city', 'cuisine_style',\n",
    "                'url_ta', 'reviews', 'first_review',\n",
    "                'last_review', 'first_date', 'last_date', 'country']"
   ]
  },
  {
   "cell_type": "code",
   "execution_count": null,
   "metadata": {
    "execution": {
     "iopub.execute_input": "2021-01-19T07:02:44.463297Z",
     "iopub.status.busy": "2021-01-19T07:02:44.462744Z",
     "iopub.status.idle": "2021-01-19T07:02:44.466127Z",
     "shell.execute_reply": "2021-01-19T07:02:44.465596Z"
    },
    "papermill": {
     "duration": 0.200533,
     "end_time": "2021-01-19T07:02:44.466238",
     "exception": false,
     "start_time": "2021-01-19T07:02:44.265705",
     "status": "completed"
    },
    "tags": []
   },
   "outputs": [],
   "source": [
    "df_to_model = df.drop(cols_to_drop, axis=1)"
   ]
  },
  {
   "cell_type": "markdown",
   "metadata": {
    "papermill": {
     "duration": 0.171262,
     "end_time": "2021-01-19T07:02:44.814067",
     "exception": false,
     "start_time": "2021-01-19T07:02:44.642805",
     "status": "completed"
    },
    "tags": []
   },
   "source": [
    "2 Объединим дополнительные датафреймы, полученные при анализе и предобработке."
   ]
  },
  {
   "cell_type": "code",
   "execution_count": null,
   "metadata": {
    "execution": {
     "iopub.execute_input": "2021-01-19T07:02:45.517090Z",
     "iopub.status.busy": "2021-01-19T07:02:45.516239Z",
     "iopub.status.idle": "2021-01-19T07:02:45.530056Z",
     "shell.execute_reply": "2021-01-19T07:02:45.530528Z"
    },
    "papermill": {
     "duration": 0.18774,
     "end_time": "2021-01-19T07:02:45.530666",
     "exception": false,
     "start_time": "2021-01-19T07:02:45.342926",
     "status": "completed"
    },
    "tags": []
   },
   "outputs": [],
   "source": [
    "df_to_model = pd.concat([df_to_model, OH_city], axis=1)"
   ]
  },
  {
   "cell_type": "code",
   "execution_count": null,
   "metadata": {},
   "outputs": [],
   "source": [
    "df_to_model.head(5)"
   ]
  },
  {
   "cell_type": "code",
   "execution_count": null,
   "metadata": {},
   "outputs": [],
   "source": [
    "X = df_to_model.corr()\n",
    "\n",
    "# Chek the determinant of matrix X (via eginvalues)\n",
    "evals, evec = np.linalg.eig(X)\n",
    "ev_product = np.prod(evals)  # product of evalues same as determinant\n",
    "\n",
    "\n",
    "fig, ax = plt.subplots(figsize=(50, 50))\n",
    "sns.heatmap(X, vmax=.7, square=True, annot=True)\n",
    "print(f'Rank of Matrix: {np.linalg.matrix_rank(X)}')\n",
    "print(f'Determinat of matrix :{ev_product}')\n",
    "print(f'Shape of matrix :{np.shape(X)}')"
   ]
  },
  {
   "cell_type": "code",
   "execution_count": null,
   "metadata": {
    "execution": {
     "iopub.execute_input": "2021-01-19T07:02:54.281050Z",
     "iopub.status.busy": "2021-01-19T07:02:54.280540Z",
     "iopub.status.idle": "2021-01-19T07:02:54.303394Z",
     "shell.execute_reply": "2021-01-19T07:02:54.303794Z"
    },
    "papermill": {
     "duration": 0.218843,
     "end_time": "2021-01-19T07:02:54.303922",
     "exception": false,
     "start_time": "2021-01-19T07:02:54.085079",
     "status": "completed"
    },
    "tags": []
   },
   "outputs": [],
   "source": [
    "# Теперь выделим тестовую часть\n",
    "train_data = df_to_model.query('sample == 1').drop(['sample'], axis=1)\n",
    "test_data = df_to_model.query('sample == 0').drop(['sample'], axis=1)\n",
    "\n",
    "y = train_data.rating.values               # наш таргет\n",
    "X = train_data.drop(['rating'], axis=1)"
   ]
  },
  {
   "cell_type": "code",
   "execution_count": null,
   "metadata": {
    "execution": {
     "iopub.execute_input": "2021-01-19T07:02:54.687274Z",
     "iopub.status.busy": "2021-01-19T07:02:54.686744Z",
     "iopub.status.idle": "2021-01-19T07:02:54.698862Z",
     "shell.execute_reply": "2021-01-19T07:02:54.699393Z"
    },
    "papermill": {
     "duration": 0.205515,
     "end_time": "2021-01-19T07:02:54.699508",
     "exception": false,
     "start_time": "2021-01-19T07:02:54.493993",
     "status": "completed"
    },
    "tags": []
   },
   "outputs": [],
   "source": [
    "# Воспользуемся специальной функцие train_test_split для разбивки тестовых данных\n",
    "# выделим 20% данных на валидацию (параметр test_size)\n",
    "X_train, X_test, y_train, y_test = train_test_split(\n",
    "    X, y, test_size=0.2, random_state=RANDOM_SEED)"
   ]
  },
  {
   "cell_type": "code",
   "execution_count": null,
   "metadata": {
    "execution": {
     "iopub.execute_input": "2021-01-19T07:02:55.086338Z",
     "iopub.status.busy": "2021-01-19T07:02:55.085727Z",
     "iopub.status.idle": "2021-01-19T07:02:55.089025Z",
     "shell.execute_reply": "2021-01-19T07:02:55.088605Z"
    },
    "papermill": {
     "duration": 0.199974,
     "end_time": "2021-01-19T07:02:55.089117",
     "exception": false,
     "start_time": "2021-01-19T07:02:54.889143",
     "status": "completed"
    },
    "tags": []
   },
   "outputs": [],
   "source": [
    "# тест\n",
    "test_data.shape, train_data.shape, X.shape, X_train.shape, X_test.shape"
   ]
  },
  {
   "cell_type": "markdown",
   "metadata": {
    "papermill": {
     "duration": 0.216749,
     "end_time": "2021-01-19T07:02:55.501203",
     "exception": false,
     "start_time": "2021-01-19T07:02:55.284454",
     "status": "completed"
    },
    "tags": []
   },
   "source": [
    "# 5. Модель"
   ]
  },
  {
   "cell_type": "code",
   "execution_count": null,
   "metadata": {
    "execution": {
     "iopub.execute_input": "2021-01-19T07:02:56.277103Z",
     "iopub.status.busy": "2021-01-19T07:02:56.276585Z",
     "iopub.status.idle": "2021-01-19T07:02:56.379589Z",
     "shell.execute_reply": "2021-01-19T07:02:56.379001Z"
    },
    "papermill": {
     "duration": 0.298357,
     "end_time": "2021-01-19T07:02:56.379686",
     "exception": false,
     "start_time": "2021-01-19T07:02:56.081329",
     "status": "completed"
    },
    "tags": []
   },
   "outputs": [],
   "source": [
    "# Импортируем необходимые библиотеки:\n",
    "# инструмент для создания и обучения модели\n",
    "from sklearn.ensemble import RandomForestRegressor\n",
    "from sklearn import metrics  # инструменты для оценки точности модели"
   ]
  },
  {
   "cell_type": "code",
   "execution_count": null,
   "metadata": {
    "execution": {
     "iopub.execute_input": "2021-01-19T07:02:56.763607Z",
     "iopub.status.busy": "2021-01-19T07:02:56.763048Z",
     "iopub.status.idle": "2021-01-19T07:02:56.766828Z",
     "shell.execute_reply": "2021-01-19T07:02:56.767270Z"
    },
    "papermill": {
     "duration": 0.196573,
     "end_time": "2021-01-19T07:02:56.767384",
     "exception": false,
     "start_time": "2021-01-19T07:02:56.570811",
     "status": "completed"
    },
    "tags": []
   },
   "outputs": [],
   "source": [
    "# Создаём модель (НАСТРОЙКИ НЕ ТРОГАЕМ)\n",
    "model = RandomForestRegressor(\n",
    "    n_estimators=100, verbose=1, n_jobs=-1, random_state=RANDOM_SEED)"
   ]
  },
  {
   "cell_type": "code",
   "execution_count": null,
   "metadata": {
    "execution": {
     "iopub.execute_input": "2021-01-19T07:02:57.155642Z",
     "iopub.status.busy": "2021-01-19T07:02:57.155121Z",
     "iopub.status.idle": "2021-01-19T07:03:07.968805Z",
     "shell.execute_reply": "2021-01-19T07:03:07.967987Z"
    },
    "papermill": {
     "duration": 11.00674,
     "end_time": "2021-01-19T07:03:07.968921",
     "exception": false,
     "start_time": "2021-01-19T07:02:56.962181",
     "status": "completed"
    },
    "tags": []
   },
   "outputs": [],
   "source": [
    "# Обучаем модель на тестовом наборе данных\n",
    "model.fit(X_train, y_train)\n",
    "\n",
    "# Используем обученную модель для предсказания рейтинга ресторанов в тестовой выборке.\n",
    "# Предсказанные значения записываем в переменную y_pred\n",
    "y_pred = model.predict(X_test)"
   ]
  },
  {
   "cell_type": "markdown",
   "metadata": {},
   "source": [
    "Реальные рейтинги всегда кратны 0,5, используем функцию для округления прогнозируемых оценок."
   ]
  },
  {
   "cell_type": "code",
   "execution_count": null,
   "metadata": {
    "execution": {
     "iopub.execute_input": "2021-01-19T07:03:08.764143Z",
     "iopub.status.busy": "2021-01-19T07:03:08.763621Z",
     "iopub.status.idle": "2021-01-19T07:03:08.766562Z",
     "shell.execute_reply": "2021-01-19T07:03:08.766136Z"
    },
    "papermill": {
     "duration": 0.21818,
     "end_time": "2021-01-19T07:03:08.766653",
     "exception": false,
     "start_time": "2021-01-19T07:03:08.548473",
     "status": "completed"
    },
    "tags": []
   },
   "outputs": [],
   "source": [
    "for i in range(len(y_pred)):\n",
    "    y_pred[i] = round_rating_pred(y_pred[i])"
   ]
  },
  {
   "cell_type": "code",
   "execution_count": null,
   "metadata": {
    "execution": {
     "iopub.execute_input": "2021-01-19T07:03:09.152960Z",
     "iopub.status.busy": "2021-01-19T07:03:09.152423Z",
     "iopub.status.idle": "2021-01-19T07:03:09.156213Z",
     "shell.execute_reply": "2021-01-19T07:03:09.155766Z"
    },
    "papermill": {
     "duration": 0.196808,
     "end_time": "2021-01-19T07:03:09.156302",
     "exception": false,
     "start_time": "2021-01-19T07:03:08.959494",
     "status": "completed"
    },
    "tags": []
   },
   "outputs": [],
   "source": [
    "# Сравниваем предсказанные значения (y_pred) с реальными (y_test), и смотрим насколько они в среднем отличаются\n",
    "# Метрика называется Mean Absolute Error (MAE) и показывает среднее отклонение предсказанных значений от фактических.\n",
    "print('MAE:', metrics.mean_absolute_error(y_test, y_pred))"
   ]
  },
  {
   "cell_type": "code",
   "execution_count": null,
   "metadata": {
    "execution": {
     "iopub.execute_input": "2021-01-19T07:03:09.539444Z",
     "iopub.status.busy": "2021-01-19T07:03:09.538891Z",
     "iopub.status.idle": "2021-01-19T07:03:09.541395Z",
     "shell.execute_reply": "2021-01-19T07:03:09.540799Z"
    },
    "papermill": {
     "duration": 0.195779,
     "end_time": "2021-01-19T07:03:09.541510",
     "exception": false,
     "start_time": "2021-01-19T07:03:09.345731",
     "status": "completed"
    },
    "tags": []
   },
   "outputs": [],
   "source": [
    "# 1st approx. MAE: 0.16425\n",
    "# 2nd approx. MAE: 0.1639375 - changed analysis to polarity\n",
    "# 3nd approx. MAE: 0.163 - dropped useless cols"
   ]
  },
  {
   "cell_type": "code",
   "execution_count": null,
   "metadata": {
    "execution": {
     "iopub.execute_input": "2021-01-19T07:03:09.952064Z",
     "iopub.status.busy": "2021-01-19T07:03:09.951377Z",
     "iopub.status.idle": "2021-01-19T07:03:10.231549Z",
     "shell.execute_reply": "2021-01-19T07:03:10.231106Z"
    },
    "papermill": {
     "duration": 0.499341,
     "end_time": "2021-01-19T07:03:10.231646",
     "exception": false,
     "start_time": "2021-01-19T07:03:09.732305",
     "status": "completed"
    },
    "tags": []
   },
   "outputs": [],
   "source": [
    "# Выделим самые важные признаки\n",
    "plt.rcParams['figure.figsize'] = (10, 10)\n",
    "feat_importances = pd.Series(model.feature_importances_, index=X.columns)\n",
    "feat_importances.nlargest(15).plot(kind='barh')"
   ]
  },
  {
   "cell_type": "markdown",
   "metadata": {},
   "source": [
    "Определим какие столбцы меньше всего влияют на модель"
   ]
  },
  {
   "cell_type": "code",
   "execution_count": null,
   "metadata": {
    "execution": {
     "iopub.execute_input": "2021-01-19T07:03:10.621347Z",
     "iopub.status.busy": "2021-01-19T07:03:10.620626Z",
     "iopub.status.idle": "2021-01-19T07:03:10.624025Z",
     "shell.execute_reply": "2021-01-19T07:03:10.623531Z"
    },
    "papermill": {
     "duration": 0.201404,
     "end_time": "2021-01-19T07:03:10.624123",
     "exception": false,
     "start_time": "2021-01-19T07:03:10.422719",
     "status": "completed"
    },
    "tags": []
   },
   "outputs": [],
   "source": [
    "# To identify what cols are not impact on a result\n",
    "a = list(feat_importances.sort_values(\n",
    "    ascending=False).head(15).reset_index()['index'])\n",
    "b = set(df_to_model.columns)\n",
    "cols_to_drop = list(b-set(a))\n",
    "cols_to_drop"
   ]
  },
  {
   "cell_type": "markdown",
   "metadata": {
    "papermill": {
     "duration": 0.194124,
     "end_time": "2021-01-19T07:03:11.035074",
     "exception": false,
     "start_time": "2021-01-19T07:03:10.840950",
     "status": "completed"
    },
    "tags": []
   },
   "source": [
    "# 6. SUBMISSION"
   ]
  },
  {
   "cell_type": "code",
   "execution_count": null,
   "metadata": {
    "execution": {
     "iopub.execute_input": "2021-01-19T07:03:11.433515Z",
     "iopub.status.busy": "2021-01-19T07:03:11.432986Z",
     "iopub.status.idle": "2021-01-19T07:03:11.459416Z",
     "shell.execute_reply": "2021-01-19T07:03:11.459901Z"
    },
    "papermill": {
     "duration": 0.229241,
     "end_time": "2021-01-19T07:03:11.460024",
     "exception": false,
     "start_time": "2021-01-19T07:03:11.230783",
     "status": "completed"
    },
    "tags": []
   },
   "outputs": [],
   "source": [
    "test_data.sample(10)"
   ]
  },
  {
   "cell_type": "code",
   "execution_count": null,
   "metadata": {
    "execution": {
     "iopub.execute_input": "2021-01-19T07:03:11.849431Z",
     "iopub.status.busy": "2021-01-19T07:03:11.848899Z",
     "iopub.status.idle": "2021-01-19T07:03:11.853827Z",
     "shell.execute_reply": "2021-01-19T07:03:11.854353Z"
    },
    "papermill": {
     "duration": 0.199984,
     "end_time": "2021-01-19T07:03:11.854465",
     "exception": false,
     "start_time": "2021-01-19T07:03:11.654481",
     "status": "completed"
    },
    "tags": []
   },
   "outputs": [],
   "source": [
    "test_data = test_data.drop(['rating'], axis=1)"
   ]
  },
  {
   "cell_type": "code",
   "execution_count": null,
   "metadata": {
    "execution": {
     "iopub.execute_input": "2021-01-19T07:03:12.254631Z",
     "iopub.status.busy": "2021-01-19T07:03:12.253782Z",
     "iopub.status.idle": "2021-01-19T07:03:12.263017Z",
     "shell.execute_reply": "2021-01-19T07:03:12.263455Z"
    },
    "papermill": {
     "duration": 0.213041,
     "end_time": "2021-01-19T07:03:12.263569",
     "exception": false,
     "start_time": "2021-01-19T07:03:12.050528",
     "status": "completed"
    },
    "tags": []
   },
   "outputs": [],
   "source": [
    "sample_submission"
   ]
  },
  {
   "cell_type": "code",
   "execution_count": null,
   "metadata": {
    "execution": {
     "iopub.execute_input": "2021-01-19T07:03:12.659900Z",
     "iopub.status.busy": "2021-01-19T07:03:12.659375Z",
     "iopub.status.idle": "2021-01-19T07:03:12.767557Z",
     "shell.execute_reply": "2021-01-19T07:03:12.766942Z"
    },
    "papermill": {
     "duration": 0.309185,
     "end_time": "2021-01-19T07:03:12.767655",
     "exception": false,
     "start_time": "2021-01-19T07:03:12.458470",
     "status": "completed"
    },
    "tags": []
   },
   "outputs": [],
   "source": [
    "predict_submission = model.predict(test_data)"
   ]
  },
  {
   "cell_type": "code",
   "execution_count": null,
   "metadata": {
    "execution": {
     "iopub.execute_input": "2021-01-19T07:03:13.183138Z",
     "iopub.status.busy": "2021-01-19T07:03:13.174839Z",
     "iopub.status.idle": "2021-01-19T07:03:13.186640Z",
     "shell.execute_reply": "2021-01-19T07:03:13.186067Z"
    },
    "papermill": {
     "duration": 0.220011,
     "end_time": "2021-01-19T07:03:13.186730",
     "exception": false,
     "start_time": "2021-01-19T07:03:12.966719",
     "status": "completed"
    },
    "tags": []
   },
   "outputs": [],
   "source": [
    "# Окргулим значения\n",
    "for i in range(len(predict_submission)):\n",
    "    predict_submission[i] = round_rating_pred(predict_submission[i])"
   ]
  },
  {
   "cell_type": "code",
   "execution_count": null,
   "metadata": {
    "execution": {
     "iopub.execute_input": "2021-01-19T07:03:13.584629Z",
     "iopub.status.busy": "2021-01-19T07:03:13.584119Z",
     "iopub.status.idle": "2021-01-19T07:03:13.588587Z",
     "shell.execute_reply": "2021-01-19T07:03:13.589083Z"
    },
    "papermill": {
     "duration": 0.203851,
     "end_time": "2021-01-19T07:03:13.589208",
     "exception": false,
     "start_time": "2021-01-19T07:03:13.385357",
     "status": "completed"
    },
    "tags": []
   },
   "outputs": [],
   "source": [
    "predict_submission"
   ]
  },
  {
   "cell_type": "code",
   "execution_count": null,
   "metadata": {
    "execution": {
     "iopub.execute_input": "2021-01-19T07:03:13.982491Z",
     "iopub.status.busy": "2021-01-19T07:03:13.981908Z",
     "iopub.status.idle": "2021-01-19T07:03:14.254024Z",
     "shell.execute_reply": "2021-01-19T07:03:14.255047Z"
    },
    "papermill": {
     "duration": 0.471096,
     "end_time": "2021-01-19T07:03:14.255302",
     "exception": false,
     "start_time": "2021-01-19T07:03:13.784206",
     "status": "completed"
    },
    "tags": []
   },
   "outputs": [],
   "source": [
    "sample_submission['Rating'] = predict_submission\n",
    "sample_submission.to_csv('submission.csv', index=False)\n",
    "sample_submission.head(10)"
   ]
  }
 ],
 "metadata": {
  "celltoolbar": "Необработанный формат ячейки",
  "kernelspec": {
   "display_name": "Python 3",
   "language": "python",
   "name": "python3"
  },
  "language_info": {
   "codemirror_mode": {
    "name": "ipython",
    "version": 3
   },
   "file_extension": ".py",
   "mimetype": "text/x-python",
   "name": "python",
   "nbconvert_exporter": "python",
   "pygments_lexer": "ipython3",
   "version": "3.8.5"
  },
  "papermill": {
   "duration": 567.835425,
   "end_time": "2021-01-19T07:03:14.573762",
   "environment_variables": {},
   "exception": null,
   "input_path": "__notebook__.ipynb",
   "output_path": "__notebook__.ipynb",
   "parameters": {},
   "start_time": "2021-01-19T06:53:46.738337",
   "version": "2.1.0"
  }
 },
 "nbformat": 4,
 "nbformat_minor": 4
}
